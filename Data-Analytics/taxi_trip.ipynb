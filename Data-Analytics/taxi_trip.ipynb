{
 "cells": [
  {
   "cell_type": "code",
   "execution_count": 1,
   "metadata": {},
   "outputs": [
    {
     "name": "stdout",
     "output_type": "stream",
     "text": [
      "Total memory: 8.00 GB\n",
      "Free memory: 7.60 GB\n",
      "Used memory: 0.40 GB\n"
     ]
    }
   ],
   "source": [
    "import pynvml\n",
    "pynvml.nvmlInit()\n",
    "handle = pynvml.nvmlDeviceGetHandleByIndex(0)\n",
    "info = pynvml.nvmlDeviceGetMemoryInfo(handle)\n",
    "print(f'Total memory: {info.total / 1024**3:.2f} GB')\n",
    "print(f'Free memory: {info.free / 1024**3:.2f} GB')\n",
    "print(f'Used memory: {info.used / 1024**3:.2f} GB')\n",
    "import dask_cudf\n",
    "import cupy as cp\n",
    "import rmm\n",
    "import cudf\n",
    "import gc\n"
   ]
  },
  {
   "cell_type": "code",
   "execution_count": 2,
   "metadata": {},
   "outputs": [
    {
     "name": "stdout",
     "output_type": "stream",
     "text": [
      "Used memory: 0.52 GB\n"
     ]
    }
   ],
   "source": [
    "import cudf.pandas\n",
    "cudf.pandas.install()\n",
    "import pandas as pd\n",
    "import numpy as np\n",
    "import matplotlib.pyplot as plt\n",
    "import seaborn as sns\n",
    "taxi_busyness_data= dask_cudf.read_csv('2020_Yellow_Taxi_Trip_Data_20240522.csv', blocksize=\"20MB\")\n",
    "info = pynvml.nvmlDeviceGetMemoryInfo(handle)\n",
    "\n",
    "print(f'Used memory: {info.used / 1024**3:.2f} GB')"
   ]
  },
  {
   "cell_type": "code",
   "execution_count": 3,
   "metadata": {},
   "outputs": [
    {
     "data": {
      "text/plain": [
       "Index(['VendorID', 'tpep_pickup_datetime', 'tpep_dropoff_datetime',\n",
       "       'passenger_count', 'trip_distance', 'RatecodeID', 'store_and_fwd_flag',\n",
       "       'PULocationID', 'DOLocationID', 'payment_type', 'fare_amount', 'extra',\n",
       "       'mta_tax', 'tip_amount', 'tolls_amount', 'improvement_surcharge',\n",
       "       'total_amount', 'congestion_surcharge'],\n",
       "      dtype='object')"
      ]
     },
     "execution_count": 3,
     "metadata": {},
     "output_type": "execute_result"
    }
   ],
   "source": [
    "taxi_busyness_data.columns"
   ]
  },
  {
   "cell_type": "code",
   "execution_count": 4,
   "metadata": {},
   "outputs": [
    {
     "name": "stdout",
     "output_type": "stream",
     "text": [
      "Index(['tpep_pickup_datetime', 'tpep_dropoff_datetime', 'PULocationID',\n",
      "       'DOLocationID', 'passenger_count'],\n",
      "      dtype='object')\n",
      "24648499\n",
      "Used memory: 0.52 GB\n"
     ]
    }
   ],
   "source": [
    "taxi_busyness_data = taxi_busyness_data[[\"tpep_pickup_datetime\",\"tpep_dropoff_datetime\",\"PULocationID\",\"DOLocationID\",\"passenger_count\"]]\n",
    "print(taxi_busyness_data.columns)\n",
    "rows = taxi_busyness_data.shape[0].compute()\n",
    "print(rows)\n",
    "print(f'Used memory: {info.used / 1024**3:.2f} GB')"
   ]
  },
  {
   "cell_type": "code",
   "execution_count": 5,
   "metadata": {},
   "outputs": [
    {
     "name": "stdout",
     "output_type": "stream",
     "text": [
      "tpep_pickup_datetime          0\n",
      "tpep_dropoff_datetime         0\n",
      "PULocationID                  0\n",
      "DOLocationID                  0\n",
      "passenger_count          809568\n",
      "dtype: int64\n"
     ]
    }
   ],
   "source": [
    "null_counts = taxi_busyness_data.isnull().sum()\n",
    "print(null_counts.compute())\n",
    "\n",
    "# for column in taxi_busyness_data.columns:\n",
    "#     print(f\"Value counts for {column}:\")\n",
    "#     value_counts = taxi_busyness_data[column].value_counts().compute()\n",
    "#     print(value_counts)\n",
    "#     print(\"\\n\")\n",
    "#     # print(f\"Unique values for {column}:\")\n",
    "    \n",
    "#     # Replace null values with a placeholder or drop them\n",
    "#     # taxi_busyness_data[column] = taxi_busyness_data[column].fillna(-1)  # Adjust based on data type and context\n",
    "#     # print(\"hi\")\n",
    "    \n",
    "#     # unique_values = taxi_busyness_data[column].unique_count()\n",
    "#     # print(unique_values)\n",
    "#     # print(\"\\n\")\n",
    "\n",
    "# taxi_busyness_data.nunique().compute()\n",
    "# info = pynvml.nvmlDeviceGetMemoryInfo(handle)\n",
    "\n",
    "# print(f'Used memory: {info.used / 1024**3:.2f} GB')\n",
    "# gc.collect()"
   ]
  },
  {
   "cell_type": "code",
   "execution_count": 6,
   "metadata": {},
   "outputs": [
    {
     "name": "stdout",
     "output_type": "stream",
     "text": [
      "tpep_pickup_datetime\n",
      "01/01/2020 03:21:54 AM    1\n",
      "01/01/2020 03:21:54 PM    1\n",
      "01/01/2020 03:21:55 AM    3\n",
      "01/01/2020 03:21:55 PM    1\n",
      "01/01/2020 03:21:56 AM    4\n",
      "                         ..\n",
      "12/31/2020 10:36:08 AM    1\n",
      "12/31/2020 10:36:10 PM    1\n",
      "12/31/2020 09:12:57 PM    1\n",
      "12/31/2020 09:12:58 PM    1\n",
      "12/31/2020 10:36:11 PM    2\n",
      "Length: 11775710, dtype: int64\n",
      "tpep_dropoff_datetime\n",
      "01/01/2020 03:38:48 PM    1\n",
      "01/01/2020 03:38:49 AM    5\n",
      "01/01/2020 03:38:49 PM    3\n",
      "01/01/2020 03:38:50 AM    2\n",
      "01/01/2020 03:38:50 PM    3\n",
      "                         ..\n",
      "12/31/2020 11:27:31 AM    1\n",
      "12/31/2020 11:27:32 AM    1\n",
      "12/31/2020 11:27:34 AM    3\n",
      "12/31/2020 11:42:29 AM    1\n",
      "12/31/2020 12:49:11 PM    4\n",
      "Length: 11776107, dtype: int64\n",
      "PULocationID\n",
      "55      3810\n",
      "58       163\n",
      "60      1911\n",
      "61     16356\n",
      "62      4600\n",
      "       ...  \n",
      "120      253\n",
      "121     2962\n",
      "122     1328\n",
      "123     2746\n",
      "124     1767\n",
      "Length: 262, dtype: int64\n",
      "DOLocationID\n",
      "50     282743\n",
      "51       9921\n",
      "52      17797\n",
      "53       3213\n",
      "54       5589\n",
      "        ...  \n",
      "115       908\n",
      "116     89299\n",
      "117      5739\n",
      "210      6838\n",
      "215     11131\n",
      "Length: 263, dtype: int64\n",
      "passenger_count\n",
      "0      489379\n",
      "1    17511207\n",
      "2     3349133\n",
      "3      872658\n",
      "4      390094\n",
      "5      751719\n",
      "7          91\n",
      "9          51\n",
      "6      474541\n",
      "8          58\n",
      "dtype: int64\n"
     ]
    }
   ],
   "source": [
    "for column in taxi_busyness_data.columns:\n",
    "    print(taxi_busyness_data.groupby(column).size().compute())"
   ]
  },
  {
   "cell_type": "code",
   "execution_count": 7,
   "metadata": {},
   "outputs": [
    {
     "data": {
      "text/html": [
       "<div>\n",
       "<style scoped>\n",
       "    .dataframe tbody tr th:only-of-type {\n",
       "        vertical-align: middle;\n",
       "    }\n",
       "\n",
       "    .dataframe tbody tr th {\n",
       "        vertical-align: top;\n",
       "    }\n",
       "\n",
       "    .dataframe thead th {\n",
       "        text-align: right;\n",
       "    }\n",
       "</style>\n",
       "<table border=\"1\" class=\"dataframe\">\n",
       "  <thead>\n",
       "    <tr style=\"text-align: right;\">\n",
       "      <th></th>\n",
       "      <th>tpep_pickup_datetime</th>\n",
       "      <th>tpep_dropoff_datetime</th>\n",
       "      <th>PULocationID</th>\n",
       "      <th>DOLocationID</th>\n",
       "      <th>passenger_count</th>\n",
       "    </tr>\n",
       "  </thead>\n",
       "  <tbody>\n",
       "    <tr>\n",
       "      <th>0</th>\n",
       "      <td>01/01/2020 12:28:15 AM</td>\n",
       "      <td>01/01/2020 12:33:03 AM</td>\n",
       "      <td>238</td>\n",
       "      <td>239</td>\n",
       "      <td>1</td>\n",
       "    </tr>\n",
       "    <tr>\n",
       "      <th>1</th>\n",
       "      <td>01/01/2020 12:35:39 AM</td>\n",
       "      <td>01/01/2020 12:43:04 AM</td>\n",
       "      <td>239</td>\n",
       "      <td>238</td>\n",
       "      <td>1</td>\n",
       "    </tr>\n",
       "    <tr>\n",
       "      <th>2</th>\n",
       "      <td>01/01/2020 12:47:41 AM</td>\n",
       "      <td>01/01/2020 12:53:52 AM</td>\n",
       "      <td>238</td>\n",
       "      <td>238</td>\n",
       "      <td>1</td>\n",
       "    </tr>\n",
       "    <tr>\n",
       "      <th>3</th>\n",
       "      <td>01/01/2020 12:55:23 AM</td>\n",
       "      <td>01/01/2020 01:00:14 AM</td>\n",
       "      <td>238</td>\n",
       "      <td>151</td>\n",
       "      <td>1</td>\n",
       "    </tr>\n",
       "    <tr>\n",
       "      <th>4</th>\n",
       "      <td>01/01/2020 12:01:58 AM</td>\n",
       "      <td>01/01/2020 12:04:16 AM</td>\n",
       "      <td>193</td>\n",
       "      <td>193</td>\n",
       "      <td>1</td>\n",
       "    </tr>\n",
       "  </tbody>\n",
       "</table>\n",
       "</div>"
      ],
      "text/plain": [
       "     tpep_pickup_datetime   tpep_dropoff_datetime  PULocationID  DOLocationID  \\\n",
       "0  01/01/2020 12:28:15 AM  01/01/2020 12:33:03 AM           238           239   \n",
       "1  01/01/2020 12:35:39 AM  01/01/2020 12:43:04 AM           239           238   \n",
       "2  01/01/2020 12:47:41 AM  01/01/2020 12:53:52 AM           238           238   \n",
       "3  01/01/2020 12:55:23 AM  01/01/2020 01:00:14 AM           238           151   \n",
       "4  01/01/2020 12:01:58 AM  01/01/2020 12:04:16 AM           193           193   \n",
       "\n",
       "   passenger_count  \n",
       "0                1  \n",
       "1                1  \n",
       "2                1  \n",
       "3                1  \n",
       "4                1  "
      ]
     },
     "execution_count": 7,
     "metadata": {},
     "output_type": "execute_result"
    }
   ],
   "source": [
    "taxi_busyness_data.head(5)"
   ]
  },
  {
   "cell_type": "code",
   "execution_count": 8,
   "metadata": {},
   "outputs": [
    {
     "name": "stdout",
     "output_type": "stream",
     "text": [
      "24.04.01\n"
     ]
    }
   ],
   "source": [
    "print(cudf.__version__)"
   ]
  },
  {
   "cell_type": "code",
   "execution_count": 9,
   "metadata": {},
   "outputs": [
    {
     "name": "stdout",
     "output_type": "stream",
     "text": [
      "(24648499,) (24648499,)\n",
      "[]\n",
      "(0,) (1,)\n",
      "Unique elements in pandas_pul but not in pandas_dol: []\n",
      "Unique elements in pandas_dol but not in pandas_pul: [104]\n"
     ]
    }
   ],
   "source": [
    "pandas_dol=taxi_busyness_data[\"DOLocationID\"].compute().to_pandas()\n",
    "pandas_pul=taxi_busyness_data[\"PULocationID\"].compute().to_pandas()\n",
    "unique_in_pul = pandas_pul[~pandas_pul.isin(pandas_dol)].unique()\n",
    "print(pandas_pul.shape,pandas_dol.shape)\n",
    "# Find unique elements in pandas_dol that are not in pandas_pul\n",
    "unique_in_dol = pandas_dol[~pandas_dol.isin(pandas_pul)].unique()\n",
    "print(unique_in_pul)\n",
    "\n",
    "print(unique_in_pul.shape,unique_in_dol.shape)\n",
    "print(\"Unique elements in pandas_pul but not in pandas_dol:\", unique_in_pul)\n",
    "print(\"Unique elements in pandas_dol but not in pandas_pul:\", unique_in_dol)"
   ]
  },
  {
   "cell_type": "code",
   "execution_count": 10,
   "metadata": {},
   "outputs": [
    {
     "name": "stdout",
     "output_type": "stream",
     "text": [
      "01/01/2020 12:33:03 AM\n",
      "Type of the first element in 'tpep_dropoff_datetime': <class 'str'>\n",
      "Used memory: 5.18 GB\n"
     ]
    },
    {
     "data": {
      "text/plain": [
       "13975"
      ]
     },
     "execution_count": 10,
     "metadata": {},
     "output_type": "execute_result"
    }
   ],
   "source": [
    "\n",
    "# Compute the Dask cuDF DataFrame to bring it into memory as a cuDF DataFrame\n",
    "computed_df = taxi_busyness_data.compute()\n",
    "\n",
    "# Access the first element in the 'tpep_dropoff_datetime' column\n",
    "first_element = computed_df[\"tpep_dropoff_datetime\"].iloc[0]\n",
    "print(first_element)\n",
    "# Get the type of the first element\n",
    "element_type = type(first_element)\n",
    "\n",
    "print(f\"Type of the first element in 'tpep_dropoff_datetime': {element_type}\")\n",
    "info = pynvml.nvmlDeviceGetMemoryInfo(handle)\n",
    "\n",
    "print(f'Used memory: {info.used / 1024**3:.2f} GB')\n",
    "gc.collect()"
   ]
  },
  {
   "cell_type": "code",
   "execution_count": 11,
   "metadata": {},
   "outputs": [
    {
     "data": {
      "text/plain": [
       "dask_cudf.core.DataFrame"
      ]
     },
     "execution_count": 11,
     "metadata": {},
     "output_type": "execute_result"
    }
   ],
   "source": [
    "taxi_filled_na = taxi_busyness_data.fillna({\"passenger_count\": 1})\n",
    "\n",
    "type(taxi_filled_na)\n"
   ]
  },
  {
   "cell_type": "code",
   "execution_count": 12,
   "metadata": {},
   "outputs": [
    {
     "name": "stdout",
     "output_type": "stream",
     "text": [
      "Maximum value in column 'passenger_count': 9\n"
     ]
    },
    {
     "data": {
      "text/html": [
       "<div>\n",
       "<style scoped>\n",
       "    .dataframe tbody tr th:only-of-type {\n",
       "        vertical-align: middle;\n",
       "    }\n",
       "\n",
       "    .dataframe tbody tr th {\n",
       "        vertical-align: top;\n",
       "    }\n",
       "\n",
       "    .dataframe thead th {\n",
       "        text-align: right;\n",
       "    }\n",
       "</style>\n",
       "<table border=\"1\" class=\"dataframe\">\n",
       "  <thead>\n",
       "    <tr style=\"text-align: right;\">\n",
       "      <th></th>\n",
       "      <th>tpep_pickup_datetime</th>\n",
       "      <th>tpep_dropoff_datetime</th>\n",
       "      <th>PULocationID</th>\n",
       "      <th>DOLocationID</th>\n",
       "      <th>passenger_count</th>\n",
       "    </tr>\n",
       "  </thead>\n",
       "  <tbody>\n",
       "    <tr>\n",
       "      <th>0</th>\n",
       "      <td>01/01/2020 12:28:15 AM</td>\n",
       "      <td>01/01/2020 12:33:03 AM</td>\n",
       "      <td>238</td>\n",
       "      <td>239</td>\n",
       "      <td>1</td>\n",
       "    </tr>\n",
       "    <tr>\n",
       "      <th>1</th>\n",
       "      <td>01/01/2020 12:35:39 AM</td>\n",
       "      <td>01/01/2020 12:43:04 AM</td>\n",
       "      <td>239</td>\n",
       "      <td>238</td>\n",
       "      <td>1</td>\n",
       "    </tr>\n",
       "    <tr>\n",
       "      <th>2</th>\n",
       "      <td>01/01/2020 12:47:41 AM</td>\n",
       "      <td>01/01/2020 12:53:52 AM</td>\n",
       "      <td>238</td>\n",
       "      <td>238</td>\n",
       "      <td>1</td>\n",
       "    </tr>\n",
       "    <tr>\n",
       "      <th>3</th>\n",
       "      <td>01/01/2020 12:55:23 AM</td>\n",
       "      <td>01/01/2020 01:00:14 AM</td>\n",
       "      <td>238</td>\n",
       "      <td>151</td>\n",
       "      <td>1</td>\n",
       "    </tr>\n",
       "    <tr>\n",
       "      <th>4</th>\n",
       "      <td>01/01/2020 12:01:58 AM</td>\n",
       "      <td>01/01/2020 12:04:16 AM</td>\n",
       "      <td>193</td>\n",
       "      <td>193</td>\n",
       "      <td>1</td>\n",
       "    </tr>\n",
       "  </tbody>\n",
       "</table>\n",
       "</div>"
      ],
      "text/plain": [
       "     tpep_pickup_datetime   tpep_dropoff_datetime  PULocationID  DOLocationID  \\\n",
       "0  01/01/2020 12:28:15 AM  01/01/2020 12:33:03 AM           238           239   \n",
       "1  01/01/2020 12:35:39 AM  01/01/2020 12:43:04 AM           239           238   \n",
       "2  01/01/2020 12:47:41 AM  01/01/2020 12:53:52 AM           238           238   \n",
       "3  01/01/2020 12:55:23 AM  01/01/2020 01:00:14 AM           238           151   \n",
       "4  01/01/2020 12:01:58 AM  01/01/2020 12:04:16 AM           193           193   \n",
       "\n",
       "   passenger_count  \n",
       "0                1  \n",
       "1                1  \n",
       "2                1  \n",
       "3                1  \n",
       "4                1  "
      ]
     },
     "execution_count": 12,
     "metadata": {},
     "output_type": "execute_result"
    }
   ],
   "source": [
    "max_value = taxi_filled_na['passenger_count'].max().compute()\n",
    "print(\"Maximum value in column 'passenger_count':\", max_value)\n",
    "\n",
    "taxi_filled_na.head(5)"
   ]
  },
  {
   "cell_type": "code",
   "execution_count": 13,
   "metadata": {},
   "outputs": [],
   "source": [
    "meta = {\n",
    "    'tpep_pickup_datetime': 'datetime64[ms]',\n",
    "    'tpep_dropoff_datetime': 'datetime64[ms]',\n",
    "    'PULocationID': 'int16',\n",
    "    'DOLocationID': 'int16',\n",
    "    'passenger_count': 'int16'\n",
    "}\n",
    "meta_data = taxi_filled_na.map_partitions(lambda df: df.head(), meta=meta)"
   ]
  },
  {
   "cell_type": "code",
   "execution_count": 14,
   "metadata": {},
   "outputs": [],
   "source": [
    "result  = meta_data.compute()"
   ]
  },
  {
   "cell_type": "code",
   "execution_count": 15,
   "metadata": {},
   "outputs": [
    {
     "data": {
      "text/plain": [
       "tpep_pickup_datetime     object\n",
       "tpep_dropoff_datetime    object\n",
       "PULocationID              int64\n",
       "DOLocationID              int64\n",
       "passenger_count           int64\n",
       "dtype: object"
      ]
     },
     "execution_count": 15,
     "metadata": {},
     "output_type": "execute_result"
    }
   ],
   "source": [
    "result.dtypes"
   ]
  },
  {
   "cell_type": "code",
   "execution_count": 16,
   "metadata": {},
   "outputs": [],
   "source": [
    "result['tpep_pickup_datetime'] = cudf.to_datetime(result['tpep_pickup_datetime'], format='%m/%d/%Y %I:%M:%S %p')\n",
    "result['tpep_dropoff_datetime'] = cudf.to_datetime(result['tpep_dropoff_datetime'], format='%m/%d/%Y %I:%M:%S %p')"
   ]
  },
  {
   "cell_type": "code",
   "execution_count": 17,
   "metadata": {},
   "outputs": [
    {
     "name": "stderr",
     "output_type": "stream",
     "text": [
      "/home/eamonn-walsh/miniconda3/envs/rapids-24.04/lib/python3.11/contextlib.py:81: FutureWarning: FutureWarning: S is deprecated and will be removed in a future version, please use s instead.\n",
      "  return func(*args, **kwds)\n"
     ]
    }
   ],
   "source": [
    "result['tpep_pickup_datetime'] = result['tpep_pickup_datetime'].dt.floor('S')\n",
    "result['tpep_dropoff_datetime'] = result['tpep_dropoff_datetime'].dt.floor('S')\n"
   ]
  },
  {
   "cell_type": "code",
   "execution_count": 18,
   "metadata": {},
   "outputs": [],
   "source": [
    "final = result.copy()\n",
    "final['tpep_pickup_datetime'] = final['tpep_pickup_datetime'].dt.strftime('%Y-%m-%dT%H:%M:%S')\n",
    "final['tpep_dropoff_datetime'] = final['tpep_dropoff_datetime'].dt.strftime('%Y-%m-%dT%H:%M:%S')"
   ]
  },
  {
   "cell_type": "code",
   "execution_count": 19,
   "metadata": {},
   "outputs": [
    {
     "data": {
      "text/plain": [
       "tpep_pickup_datetime     datetime64[ns]\n",
       "tpep_dropoff_datetime    datetime64[ns]\n",
       "PULocationID                      int64\n",
       "DOLocationID                      int64\n",
       "passenger_count                   int64\n",
       "dtype: object"
      ]
     },
     "execution_count": 19,
     "metadata": {},
     "output_type": "execute_result"
    }
   ],
   "source": [
    "result.dtypes"
   ]
  },
  {
   "cell_type": "code",
   "execution_count": 20,
   "metadata": {},
   "outputs": [],
   "source": [
    "result['pickup_hour'] = result['tpep_pickup_datetime'].dt.hour\n",
    "result['pickup_minute'] = result['tpep_pickup_datetime'].dt.minute\n",
    "result['pickup_second'] = result['tpep_pickup_datetime'].dt.second\n",
    "result['pickup_time'] = (result['pickup_hour'].astype(str).str.zfill(2) + ':' +\n",
    "                         result['pickup_minute'].astype(str).str.zfill(2) + ':' +\n",
    "                         result['pickup_second'].astype(str).str.zfill(2))\n",
    "result['dropoff_hour'] = result['tpep_dropoff_datetime'].dt.hour\n",
    "result['dropoff_minute'] = result['tpep_dropoff_datetime'].dt.minute\n",
    "result['dropoff_second'] = result['tpep_dropoff_datetime'].dt.second\n",
    "result['dropoff_time'] = (result['dropoff_hour'].astype(str).str.zfill(2) + ':' +\n",
    "                         result['dropoff_minute'].astype(str).str.zfill(2) + ':' +\n",
    "                         result['dropoff_second'].astype(str).str.zfill(2))\n",
    "\n"
   ]
  },
  {
   "cell_type": "code",
   "execution_count": 21,
   "metadata": {},
   "outputs": [
    {
     "data": {
      "text/plain": [
       "tpep_pickup_datetime     datetime64[ns]\n",
       "tpep_dropoff_datetime    datetime64[ns]\n",
       "PULocationID                      int64\n",
       "DOLocationID                      int64\n",
       "passenger_count                   int64\n",
       "pickup_hour                       int16\n",
       "pickup_minute                     int16\n",
       "pickup_second                     int16\n",
       "pickup_time                      object\n",
       "dropoff_hour                      int16\n",
       "dropoff_minute                    int16\n",
       "dropoff_second                    int16\n",
       "dropoff_time                     object\n",
       "dtype: object"
      ]
     },
     "execution_count": 21,
     "metadata": {},
     "output_type": "execute_result"
    }
   ],
   "source": [
    "result.dtypes"
   ]
  },
  {
   "cell_type": "code",
   "execution_count": 22,
   "metadata": {},
   "outputs": [
    {
     "name": "stdout",
     "output_type": "stream",
     "text": [
      "  tpep_pickup_datetime tpep_dropoff_datetime  PULocationID  DOLocationID  \\\n",
      "0  2020-01-01 00:28:15   2020-01-01 00:33:03           238           239   \n",
      "1  2020-01-01 00:35:39   2020-01-01 00:43:04           239           238   \n",
      "2  2020-01-01 00:47:41   2020-01-01 00:53:52           238           238   \n",
      "3  2020-01-01 00:55:23   2020-01-01 01:00:14           238           151   \n",
      "4  2020-01-01 00:01:58   2020-01-01 00:04:16           193           193   \n",
      "\n",
      "   passenger_count  pickup_hour  pickup_minute  pickup_second pickup_time  \\\n",
      "0                1            0             28             15    00:28:15   \n",
      "1                1            0             35             39    00:35:39   \n",
      "2                1            0             47             41    00:47:41   \n",
      "3                1            0             55             23    00:55:23   \n",
      "4                1            0              1             58    00:01:58   \n",
      "\n",
      "   dropoff_hour  dropoff_minute  dropoff_second dropoff_time  \n",
      "0             0              33               3     00:33:03  \n",
      "1             0              43               4     00:43:04  \n",
      "2             0              53              52     00:53:52  \n",
      "3             1               0              14     01:00:14  \n",
      "4             0               4              16     00:04:16  \n"
     ]
    }
   ],
   "source": [
    "print(result.head())"
   ]
  },
  {
   "cell_type": "code",
   "execution_count": 23,
   "metadata": {},
   "outputs": [
    {
     "name": "stdout",
     "output_type": "stream",
     "text": [
      "Max value of column 'pickup_hour': 23\n",
      "Max value of column 'pickup_minute': 59\n",
      "Max value of column 'pickup_second': 59\n"
     ]
    }
   ],
   "source": [
    "max_value = result['pickup_hour'].max()\n",
    "print(\"Max value of column 'pickup_hour':\", max_value)\n",
    "max_value = result['pickup_minute'].max()\n",
    "print(\"Max value of column 'pickup_minute':\", max_value)\n",
    "max_value = result['pickup_second'].max()\n",
    "print(\"Max value of column 'pickup_second':\", max_value)"
   ]
  },
  {
   "cell_type": "code",
   "execution_count": 24,
   "metadata": {},
   "outputs": [
    {
     "name": "stdout",
     "output_type": "stream",
     "text": [
      "Max value of column 'dropoff_hour': 23\n",
      "Max value of column 'dropoff_minute': 59\n",
      "Max value of column 'dropoff_second': 59\n"
     ]
    }
   ],
   "source": [
    "max_value = result['dropoff_hour'].max()\n",
    "print(\"Max value of column 'dropoff_hour':\", max_value)\n",
    "max_value = result['dropoff_minute'].max()\n",
    "print(\"Max value of column 'dropoff_minute':\", max_value)\n",
    "max_value = result['dropoff_second'].max()\n",
    "print(\"Max value of column 'dropoff_second':\", max_value)"
   ]
  },
  {
   "cell_type": "code",
   "execution_count": 25,
   "metadata": {},
   "outputs": [
    {
     "name": "stdout",
     "output_type": "stream",
     "text": [
      "tpep_pickup_datetime     0\n",
      "tpep_dropoff_datetime    0\n",
      "PULocationID             0\n",
      "DOLocationID             0\n",
      "passenger_count          0\n",
      "dtype: int64\n"
     ]
    }
   ],
   "source": [
    "null_counts = taxi_filled_na.isnull().sum()\n",
    "print(null_counts.compute())"
   ]
  },
  {
   "cell_type": "code",
   "execution_count": 26,
   "metadata": {},
   "outputs": [],
   "source": [
    "final.to_csv('saved_csvs/taxi_trip.csv', index=False)"
   ]
  },
  {
   "cell_type": "code",
   "execution_count": 27,
   "metadata": {},
   "outputs": [],
   "source": [
    "import plotly.express as px"
   ]
  },
  {
   "cell_type": "code",
   "execution_count": 28,
   "metadata": {},
   "outputs": [
    {
     "name": "stderr",
     "output_type": "stream",
     "text": [
      "/tmp/ipykernel_4487/3385554364.py:5: FutureWarning: 'T' is deprecated and will be removed in a future version, please use 'min' instead.\n",
      "  final_pandas['30min_interval'] = final_pandas['tpep_dropoff_datetime'].dt.floor('30T')\n"
     ]
    },
    {
     "name": "stdout",
     "output_type": "stream",
     "text": [
      "   hour_minute  number_of_dropoffs\n",
      "0        00:00                   9\n",
      "1        00:30                   8\n",
      "2        01:00                   5\n",
      "3        01:30                   6\n",
      "4        02:00                   2\n",
      "5        02:30                   2\n",
      "6        03:00                   2\n",
      "7        04:00                   1\n",
      "8        04:30                   2\n",
      "9        05:00                   2\n",
      "10       05:30                  12\n",
      "11       06:00                   5\n",
      "12       06:30                   9\n",
      "13       07:00                   1\n",
      "14       07:30                   8\n",
      "15       08:00                   6\n",
      "16       08:30                  19\n",
      "17       09:00                  21\n",
      "18       09:30                  19\n",
      "19       10:00                  10\n",
      "20       10:30                  22\n",
      "21       11:00                  14\n",
      "22       11:30                  13\n",
      "23       12:00                  12\n",
      "24       12:30                  16\n",
      "25       13:00                  21\n",
      "26       13:30                  14\n",
      "27       14:00                  15\n",
      "28       14:30                  33\n",
      "29       15:00                  12\n",
      "30       15:30                   6\n",
      "31       16:00                  11\n",
      "32       16:30                  16\n",
      "33       17:00                  25\n",
      "34       17:30                  19\n",
      "35       18:00                  28\n",
      "36       18:30                  21\n",
      "37       19:00                  28\n",
      "38       19:30                  29\n",
      "39       20:00                  12\n",
      "40       20:30                  11\n",
      "41       21:00                  17\n",
      "42       21:30                  14\n",
      "43       22:00                  17\n",
      "44       22:30                   7\n",
      "45       23:00                  12\n",
      "46       23:30                   6\n"
     ]
    },
    {
     "data": {
      "application/vnd.plotly.v1+json": {
       "config": {
        "plotlyServerURL": "https://plot.ly"
       },
       "data": [
        {
         "alignmentgroup": "True",
         "box": {
          "visible": false
         },
         "hovertemplate": "30-Minute Interval=%{x}<br>Number of Drop-offs=%{y}<extra></extra>",
         "legendgroup": "",
         "marker": {
          "color": "#636efa"
         },
         "name": "",
         "offsetgroup": "",
         "orientation": "v",
         "scalegroup": "True",
         "showlegend": false,
         "type": "violin",
         "x": [
          "00:00",
          "00:30",
          "01:00",
          "01:30",
          "02:00",
          "02:30",
          "03:00",
          "04:00",
          "04:30",
          "05:00",
          "05:30",
          "06:00",
          "06:30",
          "07:00",
          "07:30",
          "08:00",
          "08:30",
          "09:00",
          "09:30",
          "10:00",
          "10:30",
          "11:00",
          "11:30",
          "12:00",
          "12:30",
          "13:00",
          "13:30",
          "14:00",
          "14:30",
          "15:00",
          "15:30",
          "16:00",
          "16:30",
          "17:00",
          "17:30",
          "18:00",
          "18:30",
          "19:00",
          "19:30",
          "20:00",
          "20:30",
          "21:00",
          "21:30",
          "22:00",
          "22:30",
          "23:00",
          "23:30"
         ],
         "x0": " ",
         "xaxis": "x",
         "y": [
          9,
          8,
          5,
          6,
          2,
          2,
          2,
          1,
          2,
          2,
          12,
          5,
          9,
          1,
          8,
          6,
          19,
          21,
          19,
          10,
          22,
          14,
          13,
          12,
          16,
          21,
          14,
          15,
          33,
          12,
          6,
          11,
          16,
          25,
          19,
          28,
          21,
          28,
          29,
          12,
          11,
          17,
          14,
          17,
          7,
          12,
          6
         ],
         "y0": " ",
         "yaxis": "y"
        }
       ],
       "layout": {
        "legend": {
         "tracegroupgap": 0
        },
        "template": {
         "data": {
          "bar": [
           {
            "error_x": {
             "color": "#2a3f5f"
            },
            "error_y": {
             "color": "#2a3f5f"
            },
            "marker": {
             "line": {
              "color": "#E5ECF6",
              "width": 0.5
             },
             "pattern": {
              "fillmode": "overlay",
              "size": 10,
              "solidity": 0.2
             }
            },
            "type": "bar"
           }
          ],
          "barpolar": [
           {
            "marker": {
             "line": {
              "color": "#E5ECF6",
              "width": 0.5
             },
             "pattern": {
              "fillmode": "overlay",
              "size": 10,
              "solidity": 0.2
             }
            },
            "type": "barpolar"
           }
          ],
          "carpet": [
           {
            "aaxis": {
             "endlinecolor": "#2a3f5f",
             "gridcolor": "white",
             "linecolor": "white",
             "minorgridcolor": "white",
             "startlinecolor": "#2a3f5f"
            },
            "baxis": {
             "endlinecolor": "#2a3f5f",
             "gridcolor": "white",
             "linecolor": "white",
             "minorgridcolor": "white",
             "startlinecolor": "#2a3f5f"
            },
            "type": "carpet"
           }
          ],
          "choropleth": [
           {
            "colorbar": {
             "outlinewidth": 0,
             "ticks": ""
            },
            "type": "choropleth"
           }
          ],
          "contour": [
           {
            "colorbar": {
             "outlinewidth": 0,
             "ticks": ""
            },
            "colorscale": [
             [
              0,
              "#0d0887"
             ],
             [
              0.1111111111111111,
              "#46039f"
             ],
             [
              0.2222222222222222,
              "#7201a8"
             ],
             [
              0.3333333333333333,
              "#9c179e"
             ],
             [
              0.4444444444444444,
              "#bd3786"
             ],
             [
              0.5555555555555556,
              "#d8576b"
             ],
             [
              0.6666666666666666,
              "#ed7953"
             ],
             [
              0.7777777777777778,
              "#fb9f3a"
             ],
             [
              0.8888888888888888,
              "#fdca26"
             ],
             [
              1,
              "#f0f921"
             ]
            ],
            "type": "contour"
           }
          ],
          "contourcarpet": [
           {
            "colorbar": {
             "outlinewidth": 0,
             "ticks": ""
            },
            "type": "contourcarpet"
           }
          ],
          "heatmap": [
           {
            "colorbar": {
             "outlinewidth": 0,
             "ticks": ""
            },
            "colorscale": [
             [
              0,
              "#0d0887"
             ],
             [
              0.1111111111111111,
              "#46039f"
             ],
             [
              0.2222222222222222,
              "#7201a8"
             ],
             [
              0.3333333333333333,
              "#9c179e"
             ],
             [
              0.4444444444444444,
              "#bd3786"
             ],
             [
              0.5555555555555556,
              "#d8576b"
             ],
             [
              0.6666666666666666,
              "#ed7953"
             ],
             [
              0.7777777777777778,
              "#fb9f3a"
             ],
             [
              0.8888888888888888,
              "#fdca26"
             ],
             [
              1,
              "#f0f921"
             ]
            ],
            "type": "heatmap"
           }
          ],
          "heatmapgl": [
           {
            "colorbar": {
             "outlinewidth": 0,
             "ticks": ""
            },
            "colorscale": [
             [
              0,
              "#0d0887"
             ],
             [
              0.1111111111111111,
              "#46039f"
             ],
             [
              0.2222222222222222,
              "#7201a8"
             ],
             [
              0.3333333333333333,
              "#9c179e"
             ],
             [
              0.4444444444444444,
              "#bd3786"
             ],
             [
              0.5555555555555556,
              "#d8576b"
             ],
             [
              0.6666666666666666,
              "#ed7953"
             ],
             [
              0.7777777777777778,
              "#fb9f3a"
             ],
             [
              0.8888888888888888,
              "#fdca26"
             ],
             [
              1,
              "#f0f921"
             ]
            ],
            "type": "heatmapgl"
           }
          ],
          "histogram": [
           {
            "marker": {
             "pattern": {
              "fillmode": "overlay",
              "size": 10,
              "solidity": 0.2
             }
            },
            "type": "histogram"
           }
          ],
          "histogram2d": [
           {
            "colorbar": {
             "outlinewidth": 0,
             "ticks": ""
            },
            "colorscale": [
             [
              0,
              "#0d0887"
             ],
             [
              0.1111111111111111,
              "#46039f"
             ],
             [
              0.2222222222222222,
              "#7201a8"
             ],
             [
              0.3333333333333333,
              "#9c179e"
             ],
             [
              0.4444444444444444,
              "#bd3786"
             ],
             [
              0.5555555555555556,
              "#d8576b"
             ],
             [
              0.6666666666666666,
              "#ed7953"
             ],
             [
              0.7777777777777778,
              "#fb9f3a"
             ],
             [
              0.8888888888888888,
              "#fdca26"
             ],
             [
              1,
              "#f0f921"
             ]
            ],
            "type": "histogram2d"
           }
          ],
          "histogram2dcontour": [
           {
            "colorbar": {
             "outlinewidth": 0,
             "ticks": ""
            },
            "colorscale": [
             [
              0,
              "#0d0887"
             ],
             [
              0.1111111111111111,
              "#46039f"
             ],
             [
              0.2222222222222222,
              "#7201a8"
             ],
             [
              0.3333333333333333,
              "#9c179e"
             ],
             [
              0.4444444444444444,
              "#bd3786"
             ],
             [
              0.5555555555555556,
              "#d8576b"
             ],
             [
              0.6666666666666666,
              "#ed7953"
             ],
             [
              0.7777777777777778,
              "#fb9f3a"
             ],
             [
              0.8888888888888888,
              "#fdca26"
             ],
             [
              1,
              "#f0f921"
             ]
            ],
            "type": "histogram2dcontour"
           }
          ],
          "mesh3d": [
           {
            "colorbar": {
             "outlinewidth": 0,
             "ticks": ""
            },
            "type": "mesh3d"
           }
          ],
          "parcoords": [
           {
            "line": {
             "colorbar": {
              "outlinewidth": 0,
              "ticks": ""
             }
            },
            "type": "parcoords"
           }
          ],
          "pie": [
           {
            "automargin": true,
            "type": "pie"
           }
          ],
          "scatter": [
           {
            "fillpattern": {
             "fillmode": "overlay",
             "size": 10,
             "solidity": 0.2
            },
            "type": "scatter"
           }
          ],
          "scatter3d": [
           {
            "line": {
             "colorbar": {
              "outlinewidth": 0,
              "ticks": ""
             }
            },
            "marker": {
             "colorbar": {
              "outlinewidth": 0,
              "ticks": ""
             }
            },
            "type": "scatter3d"
           }
          ],
          "scattercarpet": [
           {
            "marker": {
             "colorbar": {
              "outlinewidth": 0,
              "ticks": ""
             }
            },
            "type": "scattercarpet"
           }
          ],
          "scattergeo": [
           {
            "marker": {
             "colorbar": {
              "outlinewidth": 0,
              "ticks": ""
             }
            },
            "type": "scattergeo"
           }
          ],
          "scattergl": [
           {
            "marker": {
             "colorbar": {
              "outlinewidth": 0,
              "ticks": ""
             }
            },
            "type": "scattergl"
           }
          ],
          "scattermapbox": [
           {
            "marker": {
             "colorbar": {
              "outlinewidth": 0,
              "ticks": ""
             }
            },
            "type": "scattermapbox"
           }
          ],
          "scatterpolar": [
           {
            "marker": {
             "colorbar": {
              "outlinewidth": 0,
              "ticks": ""
             }
            },
            "type": "scatterpolar"
           }
          ],
          "scatterpolargl": [
           {
            "marker": {
             "colorbar": {
              "outlinewidth": 0,
              "ticks": ""
             }
            },
            "type": "scatterpolargl"
           }
          ],
          "scatterternary": [
           {
            "marker": {
             "colorbar": {
              "outlinewidth": 0,
              "ticks": ""
             }
            },
            "type": "scatterternary"
           }
          ],
          "surface": [
           {
            "colorbar": {
             "outlinewidth": 0,
             "ticks": ""
            },
            "colorscale": [
             [
              0,
              "#0d0887"
             ],
             [
              0.1111111111111111,
              "#46039f"
             ],
             [
              0.2222222222222222,
              "#7201a8"
             ],
             [
              0.3333333333333333,
              "#9c179e"
             ],
             [
              0.4444444444444444,
              "#bd3786"
             ],
             [
              0.5555555555555556,
              "#d8576b"
             ],
             [
              0.6666666666666666,
              "#ed7953"
             ],
             [
              0.7777777777777778,
              "#fb9f3a"
             ],
             [
              0.8888888888888888,
              "#fdca26"
             ],
             [
              1,
              "#f0f921"
             ]
            ],
            "type": "surface"
           }
          ],
          "table": [
           {
            "cells": {
             "fill": {
              "color": "#EBF0F8"
             },
             "line": {
              "color": "white"
             }
            },
            "header": {
             "fill": {
              "color": "#C8D4E3"
             },
             "line": {
              "color": "white"
             }
            },
            "type": "table"
           }
          ]
         },
         "layout": {
          "annotationdefaults": {
           "arrowcolor": "#2a3f5f",
           "arrowhead": 0,
           "arrowwidth": 1
          },
          "autotypenumbers": "strict",
          "coloraxis": {
           "colorbar": {
            "outlinewidth": 0,
            "ticks": ""
           }
          },
          "colorscale": {
           "diverging": [
            [
             0,
             "#8e0152"
            ],
            [
             0.1,
             "#c51b7d"
            ],
            [
             0.2,
             "#de77ae"
            ],
            [
             0.3,
             "#f1b6da"
            ],
            [
             0.4,
             "#fde0ef"
            ],
            [
             0.5,
             "#f7f7f7"
            ],
            [
             0.6,
             "#e6f5d0"
            ],
            [
             0.7,
             "#b8e186"
            ],
            [
             0.8,
             "#7fbc41"
            ],
            [
             0.9,
             "#4d9221"
            ],
            [
             1,
             "#276419"
            ]
           ],
           "sequential": [
            [
             0,
             "#0d0887"
            ],
            [
             0.1111111111111111,
             "#46039f"
            ],
            [
             0.2222222222222222,
             "#7201a8"
            ],
            [
             0.3333333333333333,
             "#9c179e"
            ],
            [
             0.4444444444444444,
             "#bd3786"
            ],
            [
             0.5555555555555556,
             "#d8576b"
            ],
            [
             0.6666666666666666,
             "#ed7953"
            ],
            [
             0.7777777777777778,
             "#fb9f3a"
            ],
            [
             0.8888888888888888,
             "#fdca26"
            ],
            [
             1,
             "#f0f921"
            ]
           ],
           "sequentialminus": [
            [
             0,
             "#0d0887"
            ],
            [
             0.1111111111111111,
             "#46039f"
            ],
            [
             0.2222222222222222,
             "#7201a8"
            ],
            [
             0.3333333333333333,
             "#9c179e"
            ],
            [
             0.4444444444444444,
             "#bd3786"
            ],
            [
             0.5555555555555556,
             "#d8576b"
            ],
            [
             0.6666666666666666,
             "#ed7953"
            ],
            [
             0.7777777777777778,
             "#fb9f3a"
            ],
            [
             0.8888888888888888,
             "#fdca26"
            ],
            [
             1,
             "#f0f921"
            ]
           ]
          },
          "colorway": [
           "#636efa",
           "#EF553B",
           "#00cc96",
           "#ab63fa",
           "#FFA15A",
           "#19d3f3",
           "#FF6692",
           "#B6E880",
           "#FF97FF",
           "#FECB52"
          ],
          "font": {
           "color": "#2a3f5f"
          },
          "geo": {
           "bgcolor": "white",
           "lakecolor": "white",
           "landcolor": "#E5ECF6",
           "showlakes": true,
           "showland": true,
           "subunitcolor": "white"
          },
          "hoverlabel": {
           "align": "left"
          },
          "hovermode": "closest",
          "mapbox": {
           "style": "light"
          },
          "paper_bgcolor": "white",
          "plot_bgcolor": "#E5ECF6",
          "polar": {
           "angularaxis": {
            "gridcolor": "white",
            "linecolor": "white",
            "ticks": ""
           },
           "bgcolor": "#E5ECF6",
           "radialaxis": {
            "gridcolor": "white",
            "linecolor": "white",
            "ticks": ""
           }
          },
          "scene": {
           "xaxis": {
            "backgroundcolor": "#E5ECF6",
            "gridcolor": "white",
            "gridwidth": 2,
            "linecolor": "white",
            "showbackground": true,
            "ticks": "",
            "zerolinecolor": "white"
           },
           "yaxis": {
            "backgroundcolor": "#E5ECF6",
            "gridcolor": "white",
            "gridwidth": 2,
            "linecolor": "white",
            "showbackground": true,
            "ticks": "",
            "zerolinecolor": "white"
           },
           "zaxis": {
            "backgroundcolor": "#E5ECF6",
            "gridcolor": "white",
            "gridwidth": 2,
            "linecolor": "white",
            "showbackground": true,
            "ticks": "",
            "zerolinecolor": "white"
           }
          },
          "shapedefaults": {
           "line": {
            "color": "#2a3f5f"
           }
          },
          "ternary": {
           "aaxis": {
            "gridcolor": "white",
            "linecolor": "white",
            "ticks": ""
           },
           "baxis": {
            "gridcolor": "white",
            "linecolor": "white",
            "ticks": ""
           },
           "bgcolor": "#E5ECF6",
           "caxis": {
            "gridcolor": "white",
            "linecolor": "white",
            "ticks": ""
           }
          },
          "title": {
           "x": 0.05
          },
          "xaxis": {
           "automargin": true,
           "gridcolor": "white",
           "linecolor": "white",
           "ticks": "",
           "title": {
            "standoff": 15
           },
           "zerolinecolor": "white",
           "zerolinewidth": 2
          },
          "yaxis": {
           "automargin": true,
           "gridcolor": "white",
           "linecolor": "white",
           "ticks": "",
           "title": {
            "standoff": 15
           },
           "zerolinecolor": "white",
           "zerolinewidth": 2
          }
         }
        },
        "title": {
         "text": "Distribution of Drop-offs per 30-Minute Interval"
        },
        "violinmode": "group",
        "xaxis": {
         "anchor": "y",
         "domain": [
          0,
          1
         ],
         "title": {
          "text": "30-Minute Interval"
         }
        },
        "yaxis": {
         "anchor": "x",
         "domain": [
          0,
          1
         ],
         "title": {
          "text": "Number of Drop-offs"
         }
        }
       }
      }
     },
     "metadata": {},
     "output_type": "display_data"
    }
   ],
   "source": [
    "# Convert cudf DataFrame to pandas DataFrame\n",
    "final_pandas = result.to_pandas()\n",
    "\n",
    "# Create a new column for the 30-minute intervals manually using pandas\n",
    "final_pandas['30min_interval'] = final_pandas['tpep_dropoff_datetime'].dt.floor('30T')\n",
    "\n",
    "# Extract the hour and minute to create a categorical interval\n",
    "final_pandas['hour_minute'] = final_pandas['30min_interval'].dt.strftime('%H:%M')\n",
    "\n",
    "# Convert the pandas DataFrame back to cudf DataFrame\n",
    "final = cudf.DataFrame.from_pandas(final_pandas)\n",
    "\n",
    "# Group by the 30-minute intervals and count the number of drop-offs\n",
    "grouped = final.groupby('hour_minute').size().reset_index(name='number_of_dropoffs')\n",
    "\n",
    "# Convert cuDF DataFrame to pandas DataFrame for use with Plotly\n",
    "grouped_pandas = grouped.to_pandas()\n",
    "print(grouped_pandas)\n",
    "# Create a violin plot using Plotly\n",
    "fig = px.violin(grouped_pandas, y='number_of_dropoffs', x='hour_minute',\n",
    "                labels={'hour_minute': '30-Minute Interval', 'number_of_dropoffs': 'Number of Drop-offs'},\n",
    "                title='Distribution of Drop-offs per 30-Minute Interval')\n",
    "\n",
    "# Display the plot\n",
    "fig.show()"
   ]
  },
  {
   "cell_type": "code",
   "execution_count": null,
   "metadata": {},
   "outputs": [],
   "source": []
  }
 ],
 "metadata": {
  "kernelspec": {
   "display_name": "rapids-24.04",
   "language": "python",
   "name": "python3"
  },
  "language_info": {
   "codemirror_mode": {
    "name": "ipython",
    "version": 3
   },
   "file_extension": ".py",
   "mimetype": "text/x-python",
   "name": "python",
   "nbconvert_exporter": "python",
   "pygments_lexer": "ipython3",
   "version": "3.11.9"
  }
 },
 "nbformat": 4,
 "nbformat_minor": 2
}
