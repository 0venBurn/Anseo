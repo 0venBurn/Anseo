{
 "cells": [
  {
   "cell_type": "code",
   "execution_count": 1,
   "metadata": {},
   "outputs": [
    {
     "name": "stdout",
     "output_type": "stream",
     "text": [
      "Total memory: 8.00 GB\n",
      "Free memory: 7.60 GB\n",
      "Used memory: 0.40 GB\n"
     ]
    }
   ],
   "source": [
    "import pynvml\n",
    "pynvml.nvmlInit()\n",
    "handle = pynvml.nvmlDeviceGetHandleByIndex(0)\n",
    "info = pynvml.nvmlDeviceGetMemoryInfo(handle)\n",
    "print(f'Total memory: {info.total / 1024**3:.2f} GB')\n",
    "print(f'Free memory: {info.free / 1024**3:.2f} GB')\n",
    "print(f'Used memory: {info.used / 1024**3:.2f} GB')\n",
    "import dask_cudf\n",
    "import cupy as cp\n",
    "import rmm\n",
    "import cudf\n",
    "import gc\n",
    "import cudf.pandas\n",
    "cudf.pandas.install()\n",
    "import pandas as pd\n",
    "import numpy as np\n",
    "import matplotlib.pyplot as plt\n",
    "import seaborn as sns"
   ]
  },
  {
   "cell_type": "code",
   "execution_count": 2,
   "metadata": {},
   "outputs": [],
   "source": [
    "arrest_data = dask_cudf.read_csv('NYPD_Arrest_Data__Year_to_Date__20240529.csv', blocksize=\"100MB\")\n"
   ]
  },
  {
   "cell_type": "code",
   "execution_count": 3,
   "metadata": {},
   "outputs": [
    {
     "name": "stdout",
     "output_type": "stream",
     "text": [
      "63621\n"
     ]
    }
   ],
   "source": [
    "rows = arrest_data.shape[0].compute()\n",
    "print(rows)"
   ]
  },
  {
   "cell_type": "code",
   "execution_count": 4,
   "metadata": {},
   "outputs": [
    {
     "data": {
      "text/plain": [
       "Index(['ARREST_KEY', 'ARREST_DATE', 'PD_CD', 'PD_DESC', 'KY_CD', 'OFNS_DESC',\n",
       "       'LAW_CODE', 'LAW_CAT_CD', 'ARREST_BORO', 'ARREST_PRECINCT',\n",
       "       'JURISDICTION_CODE', 'AGE_GROUP', 'PERP_SEX', 'PERP_RACE', 'X_COORD_CD',\n",
       "       'Y_COORD_CD', 'Latitude', 'Longitude', 'New Georeferenced Column'],\n",
       "      dtype='object')"
      ]
     },
     "execution_count": 4,
     "metadata": {},
     "output_type": "execute_result"
    }
   ],
   "source": [
    "arrest_data.columns\n"
   ]
  },
  {
   "cell_type": "code",
   "execution_count": 5,
   "metadata": {},
   "outputs": [],
   "source": [
    "arrest_data = arrest_data[[\"ARREST_KEY\",\"ARREST_DATE\",\"ARREST_PRECINCT\",\"ARREST_BORO\",\"Latitude\",\"Longitude\"]]"
   ]
  },
  {
   "cell_type": "code",
   "execution_count": 6,
   "metadata": {},
   "outputs": [
    {
     "name": "stdout",
     "output_type": "stream",
     "text": [
      "ARREST_KEY         0\n",
      "ARREST_DATE        0\n",
      "ARREST_PRECINCT    0\n",
      "ARREST_BORO        0\n",
      "Latitude           0\n",
      "Longitude          0\n",
      "dtype: int64\n"
     ]
    }
   ],
   "source": [
    "null_counts = arrest_data.isnull().sum()\n",
    "print(null_counts.compute())"
   ]
  },
  {
   "cell_type": "code",
   "execution_count": 7,
   "metadata": {},
   "outputs": [
    {
     "name": "stdout",
     "output_type": "stream",
     "text": [
      "Group sizes for column ARREST_KEY:\n",
      "ARREST_KEY\n",
      "279912480    1\n",
      "279912484    1\n",
      "279912485    1\n",
      "279912486    1\n",
      "279912487    1\n",
      "            ..\n",
      "284565909    1\n",
      "284565910    1\n",
      "284567343    1\n",
      "284565634    1\n",
      "284565633    1\n",
      "Length: 63621, dtype: int64\n",
      "\n",
      "Group sizes for column ARREST_DATE:\n",
      "ARREST_DATE\n",
      "03/05/2024    787\n",
      "03/06/2024    883\n",
      "03/07/2024    917\n",
      "03/08/2024    742\n",
      "03/09/2024    562\n",
      "             ... \n",
      "01/29/2024    633\n",
      "01/30/2024    718\n",
      "01/31/2024    851\n",
      "02/01/2024    919\n",
      "01/25/2024    743\n",
      "Length: 91, dtype: int64\n",
      "\n",
      "Group sizes for column ARREST_PRECINCT:\n",
      "ARREST_PRECINCT\n",
      "26     404\n",
      "28     461\n",
      "30     446\n",
      "32     715\n",
      "33     538\n",
      "      ... \n",
      "71     712\n",
      "72     814\n",
      "73    1356\n",
      "75    2078\n",
      "76     339\n",
      "Length: 77, dtype: int64\n",
      "\n",
      "Group sizes for column ARREST_BORO:\n",
      "ARREST_BORO\n",
      "B    14221\n",
      "K    17402\n",
      "M    15324\n",
      "Q    13782\n",
      "S     2892\n",
      "dtype: int64\n",
      "\n",
      "Group sizes for column Latitude:\n",
      "Latitude\n",
      "40.592918    1\n",
      "40.592920    1\n",
      "40.592943    2\n",
      "40.592981    1\n",
      "40.592985    2\n",
      "            ..\n",
      "40.883928    7\n",
      "40.883977    1\n",
      "40.884035    4\n",
      "40.883826    1\n",
      "40.883853    2\n",
      "Length: 17663, dtype: int64\n",
      "\n",
      "Group sizes for column Longitude:\n",
      "Longitude\n",
      "-73.828963    4\n",
      "-73.828898    1\n",
      "-73.828846    5\n",
      "-73.828808    1\n",
      "-73.828786    1\n",
      "             ..\n",
      "-73.955983    3\n",
      "-73.955939    1\n",
      "-73.955920    1\n",
      "-73.955909    1\n",
      "-73.955959    1\n",
      "Length: 17629, dtype: int64\n",
      "\n"
     ]
    }
   ],
   "source": [
    "for col in arrest_data.columns:\n",
    "    grouped = arrest_data.groupby(col).size()\n",
    "    result = grouped.compute()\n",
    "    print(f\"Group sizes for column {col}:\\n{result}\\n\")"
   ]
  },
  {
   "cell_type": "code",
   "execution_count": 8,
   "metadata": {},
   "outputs": [
    {
     "name": "stdout",
     "output_type": "stream",
     "text": [
      "40.911235999999995\n",
      "0.0\n"
     ]
    }
   ],
   "source": [
    "max_values = arrest_data[\"Latitude\"].max().compute()\n",
    "\n",
    "print(max_values)\n",
    "max_values = arrest_data[\"Latitude\"].min().compute()\n",
    "\n",
    "print(max_values)"
   ]
  },
  {
   "cell_type": "code",
   "execution_count": 9,
   "metadata": {},
   "outputs": [
    {
     "name": "stdout",
     "output_type": "stream",
     "text": [
      "0.0\n",
      "-74.25271141323829\n"
     ]
    }
   ],
   "source": [
    "max_values = arrest_data[\"Longitude\"].max().compute()\n",
    "\n",
    "print(max_values)\n",
    "max_values = arrest_data[\"Longitude\"].min().compute()\n",
    "\n",
    "print(max_values)"
   ]
  },
  {
   "cell_type": "markdown",
   "metadata": {},
   "source": [
    "1. **Location 1:**  \n",
    "   - Latitude: 40.916  \n",
    "   - Longitude: -73.919  \n",
    "\n",
    "2. **Location 2:**  \n",
    "   - Latitude: 40.492  \n",
    "   - Longitude: -74.254  \n",
    "\n",
    "3. **Location 3:**  \n",
    "   - Latitude: 40.540  \n",
    "   - Longitude: -74.248  \n",
    "\n",
    "4. **Location 4:**  \n",
    "   - Latitude: 40.752471  \n",
    "   - Longitude: -73.698  \n",
    "\n",
    "**NYC Boundaries:**  \n",
    "- Latitude: 40.492 < x < 40.916  \n",
    "- Longitude: -74.254 < x < -73.698  \n",
    "\n",
    "\n",
    "for points outside this or at 0 , 0 impute\n"
   ]
  },
  {
   "cell_type": "code",
   "execution_count": 13,
   "metadata": {},
   "outputs": [
    {
     "name": "stdout",
     "output_type": "stream",
     "text": [
      "2\n"
     ]
    },
    {
     "data": {
      "text/html": [
       "<div>\n",
       "<style scoped>\n",
       "    .dataframe tbody tr th:only-of-type {\n",
       "        vertical-align: middle;\n",
       "    }\n",
       "\n",
       "    .dataframe tbody tr th {\n",
       "        vertical-align: top;\n",
       "    }\n",
       "\n",
       "    .dataframe thead th {\n",
       "        text-align: right;\n",
       "    }\n",
       "</style>\n",
       "<table border=\"1\" class=\"dataframe\">\n",
       "  <thead>\n",
       "    <tr style=\"text-align: right;\">\n",
       "      <th></th>\n",
       "      <th>ARREST_KEY</th>\n",
       "      <th>ARREST_DATE</th>\n",
       "      <th>ARREST_PRECINCT</th>\n",
       "      <th>ARREST_BORO</th>\n",
       "      <th>Latitude</th>\n",
       "      <th>Longitude</th>\n",
       "    </tr>\n",
       "  </thead>\n",
       "  <tbody>\n",
       "    <tr>\n",
       "      <th>40573</th>\n",
       "      <td>282350930</td>\n",
       "      <td>02/17/2024</td>\n",
       "      <td>25</td>\n",
       "      <td>M</td>\n",
       "      <td>0.0</td>\n",
       "      <td>0.0</td>\n",
       "    </tr>\n",
       "    <tr>\n",
       "      <th>41238</th>\n",
       "      <td>282953053</td>\n",
       "      <td>02/28/2024</td>\n",
       "      <td>1</td>\n",
       "      <td>M</td>\n",
       "      <td>0.0</td>\n",
       "      <td>0.0</td>\n",
       "    </tr>\n",
       "  </tbody>\n",
       "</table>\n",
       "</div>"
      ],
      "text/plain": [
       "       ARREST_KEY ARREST_DATE  ARREST_PRECINCT ARREST_BORO  Latitude  \\\n",
       "40573   282350930  02/17/2024               25           M       0.0   \n",
       "41238   282953053  02/28/2024                1           M       0.0   \n",
       "\n",
       "       Longitude  \n",
       "40573        0.0  \n",
       "41238        0.0  "
      ]
     },
     "execution_count": 13,
     "metadata": {},
     "output_type": "execute_result"
    }
   ],
   "source": [
    "\n",
    "\n",
    "lat_lower_bound = 40.492\n",
    "lat_upper_bound = 40.916\n",
    "long_lower_bound = -74.254\n",
    "long_upper_bound = -73.698\n",
    "\n",
    "filtered_data = arrest_data[\n",
    "    (arrest_data['Latitude'] < lat_lower_bound) |\n",
    "    (arrest_data['Latitude'] > lat_upper_bound) |\n",
    "    (arrest_data['Longitude'] < long_lower_bound) |\n",
    "    (arrest_data['Longitude'] > long_upper_bound)\n",
    "]\n",
    "\n",
    "filtered_data_computed = filtered_data.compute()\n",
    "\n",
    "bound_rows = filtered_data_computed.shape[0]\n",
    "print(bound_rows)\n",
    "filtered_data_computed"
   ]
  },
  {
   "cell_type": "code",
   "execution_count": 15,
   "metadata": {},
   "outputs": [],
   "source": [
    "filtered_data_computed.iloc[0, filtered_data_computed.columns.get_loc('Latitude')] = 40.75593384590866\n",
    "filtered_data_computed.iloc[0, filtered_data_computed.columns.get_loc('Longitude')] = -73.98319081657343\n",
    "filtered_data_computed.iloc[1, filtered_data_computed.columns.get_loc('Latitude')] = 40.75593384590866\n",
    "filtered_data_computed.iloc[1, filtered_data_computed.columns.get_loc('Longitude')] = -73.98319081657343"
   ]
  },
  {
   "cell_type": "code",
   "execution_count": 25,
   "metadata": {},
   "outputs": [],
   "source": [
    "arrest_data['Latitude'] = arrest_data['Latitude'].fillna(40.75593384590866)\n",
    "arrest_data['Longitude'] = arrest_data['Longitude'].fillna(-73.98319081657343)\n"
   ]
  },
  {
   "cell_type": "code",
   "execution_count": 17,
   "metadata": {},
   "outputs": [
    {
     "data": {
      "text/html": [
       "<div>\n",
       "<style scoped>\n",
       "    .dataframe tbody tr th:only-of-type {\n",
       "        vertical-align: middle;\n",
       "    }\n",
       "\n",
       "    .dataframe tbody tr th {\n",
       "        vertical-align: top;\n",
       "    }\n",
       "\n",
       "    .dataframe thead th {\n",
       "        text-align: right;\n",
       "    }\n",
       "</style>\n",
       "<table border=\"1\" class=\"dataframe\">\n",
       "  <thead>\n",
       "    <tr style=\"text-align: right;\">\n",
       "      <th></th>\n",
       "      <th>ARREST_KEY</th>\n",
       "      <th>ARREST_DATE</th>\n",
       "      <th>ARREST_PRECINCT</th>\n",
       "      <th>ARREST_BORO</th>\n",
       "      <th>Latitude</th>\n",
       "      <th>Longitude</th>\n",
       "    </tr>\n",
       "  </thead>\n",
       "  <tbody>\n",
       "    <tr>\n",
       "      <th>40573</th>\n",
       "      <td>282350930</td>\n",
       "      <td>02/17/2024</td>\n",
       "      <td>25</td>\n",
       "      <td>M</td>\n",
       "      <td>40.755934</td>\n",
       "      <td>-73.983191</td>\n",
       "    </tr>\n",
       "    <tr>\n",
       "      <th>41238</th>\n",
       "      <td>282953053</td>\n",
       "      <td>02/28/2024</td>\n",
       "      <td>1</td>\n",
       "      <td>M</td>\n",
       "      <td>40.755934</td>\n",
       "      <td>-73.983191</td>\n",
       "    </tr>\n",
       "  </tbody>\n",
       "</table>\n",
       "</div>"
      ],
      "text/plain": [
       "       ARREST_KEY ARREST_DATE  ARREST_PRECINCT ARREST_BORO   Latitude  \\\n",
       "40573   282350930  02/17/2024               25           M  40.755934   \n",
       "41238   282953053  02/28/2024                1           M  40.755934   \n",
       "\n",
       "       Longitude  \n",
       "40573 -73.983191  \n",
       "41238 -73.983191  "
      ]
     },
     "execution_count": 17,
     "metadata": {},
     "output_type": "execute_result"
    }
   ],
   "source": [
    "filtered_data_computed"
   ]
  },
  {
   "cell_type": "code",
   "execution_count": 26,
   "metadata": {},
   "outputs": [
    {
     "data": {
      "text/plain": [
       "['/home/eamonn-walsh/Documents/Summer-Project/saved_csvs/arrests.csv']"
      ]
     },
     "execution_count": 26,
     "metadata": {},
     "output_type": "execute_result"
    }
   ],
   "source": [
    "arrest_data.to_csv('saved_csvs/arrests.csv', single_file=True)"
   ]
  },
  {
   "cell_type": "code",
   "execution_count": null,
   "metadata": {},
   "outputs": [],
   "source": []
  }
 ],
 "metadata": {
  "kernelspec": {
   "display_name": "rapids-24.04",
   "language": "python",
   "name": "python3"
  },
  "language_info": {
   "codemirror_mode": {
    "name": "ipython",
    "version": 3
   },
   "file_extension": ".py",
   "mimetype": "text/x-python",
   "name": "python",
   "nbconvert_exporter": "python",
   "pygments_lexer": "ipython3",
   "version": "3.11.9"
  }
 },
 "nbformat": 4,
 "nbformat_minor": 2
}
