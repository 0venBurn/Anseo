{
 "cells": [
  {
   "cell_type": "code",
   "execution_count": 1,
   "metadata": {},
   "outputs": [
    {
     "name": "stdout",
     "output_type": "stream",
     "text": [
      "Total memory: 8.00 GB\n",
      "Free memory: 7.48 GB\n",
      "Used memory: 0.52 GB\n"
     ]
    }
   ],
   "source": [
    "import pynvml\n",
    "pynvml.nvmlInit()\n",
    "handle = pynvml.nvmlDeviceGetHandleByIndex(0)\n",
    "info = pynvml.nvmlDeviceGetMemoryInfo(handle)\n",
    "print(f'Total memory: {info.total / 1024**3:.2f} GB')\n",
    "print(f'Free memory: {info.free / 1024**3:.2f} GB')\n",
    "print(f'Used memory: {info.used / 1024**3:.2f} GB')\n",
    "import dask_cudf\n",
    "import cupy as cp\n",
    "import rmm\n",
    "import cudf\n",
    "import gc\n",
    "import cudf.pandas\n",
    "cudf.pandas.install()\n",
    "import pandas as pd\n",
    "import numpy as np\n",
    "import matplotlib.pyplot as plt\n",
    "import seaborn as sns"
   ]
  },
  {
   "cell_type": "code",
   "execution_count": 2,
   "metadata": {},
   "outputs": [],
   "source": [
    "mta_station_data = dask_cudf.read_csv('MTA_Subway_Stations.csv', blocksize=\"100MB\")\n"
   ]
  },
  {
   "cell_type": "code",
   "execution_count": 3,
   "metadata": {},
   "outputs": [
    {
     "data": {
      "text/plain": [
       "Index(['GTFS Stop ID', 'Station ID', 'Complex ID', 'Division', 'Line',\n",
       "       'Stop Name', 'Borough', 'Daytime Routes', 'Structure', 'GTFS Latitude',\n",
       "       'GTFS Longitude', 'North Direction Label', 'South Direction Label',\n",
       "       'ADA', 'ADA Northbound', 'ADA Southbound', 'ADA Notes', 'Georeference'],\n",
       "      dtype='object')"
      ]
     },
     "execution_count": 3,
     "metadata": {},
     "output_type": "execute_result"
    }
   ],
   "source": [
    "mta_station_data.columns"
   ]
  },
  {
   "cell_type": "code",
   "execution_count": 4,
   "metadata": {},
   "outputs": [],
   "source": [
    "mta_station_data = mta_station_data[['Station ID', 'Line', 'Stop Name', 'Borough', 'GTFS Latitude', 'GTFS Longitude']]"
   ]
  },
  {
   "cell_type": "code",
   "execution_count": 5,
   "metadata": {},
   "outputs": [
    {
     "name": "stdout",
     "output_type": "stream",
     "text": [
      "496\n"
     ]
    }
   ],
   "source": [
    "rows = mta_station_data.shape[0].compute()\n",
    "print(rows)"
   ]
  },
  {
   "cell_type": "code",
   "execution_count": 6,
   "metadata": {},
   "outputs": [
    {
     "name": "stdout",
     "output_type": "stream",
     "text": [
      "Value counts for Station ID:\n",
      "Station ID\n",
      "151    2\n",
      "167    2\n",
      "461    2\n",
      "1      1\n",
      "2      1\n",
      "      ..\n",
      "517    1\n",
      "518    1\n",
      "519    1\n",
      "522    1\n",
      "523    1\n",
      "Name: count, Length: 493, dtype: int64\n",
      "\n",
      "\n",
      "Value counts for Line:\n",
      "Line\n",
      "8th Av - Fulton St                          46\n",
      "Broadway - 7Av                              38\n",
      "6th Av - Culver                             31\n",
      "Broadway - Brighton                         28\n",
      "Jamaica                                     28\n",
      "Lenox - White Plains Rd                     26\n",
      "Canarsie                                    24\n",
      "Queens Blvd                                 24\n",
      "Lexington Av                                23\n",
      "Flushing                                    22\n",
      "Staten Island                               21\n",
      "Eastern Pky                                 18\n",
      "Pelham                                      18\n",
      "Jerome Av                                   14\n",
      "Rockaway                                    14\n",
      "4th Av                                      13\n",
      "Concourse                                   12\n",
      "Crosstown                                   12\n",
      "West End                                    12\n",
      "Astoria                                      9\n",
      "Sea Beach                                    9\n",
      "Broadway                                     7\n",
      "Liberty Av                                   7\n",
      "Myrtle Av                                    7\n",
      "Nostrand                                     7\n",
      "Clark St                                     5\n",
      "Dyre Av                                      5\n",
      "63rd St                                      3\n",
      "Franklin Shuttle                             3\n",
      "Queens - Archer                              3\n",
      "Second Av                                    3\n",
      "Lexington - Shuttle                          2\n",
      "Manhattan Bridge                             1\n",
      "Sea Beach / West End / Culver / Brighton     1\n",
      "Name: count, dtype: int64\n",
      "\n",
      "\n",
      "Value counts for Stop Name:\n",
      "Stop Name\n",
      "86 St                 6\n",
      "Canal St              6\n",
      "23 St                 5\n",
      "Fulton St             5\n",
      "125 St                4\n",
      "                     ..\n",
      "Winthrop St           1\n",
      "Woodlawn              1\n",
      "World Trade Center    1\n",
      "York St               1\n",
      "Zerega Av             1\n",
      "Name: count, Length: 378, dtype: int64\n",
      "\n",
      "\n",
      "Value counts for Borough:\n",
      "Borough\n",
      "Bk    169\n",
      "M     153\n",
      "Q      83\n",
      "Bx     70\n",
      "SI     21\n",
      "Name: count, dtype: int64\n",
      "\n",
      "\n",
      "Value counts for GTFS Latitude:\n",
      "GTFS Latitude\n",
      "40.668234    2\n",
      "40.732338    2\n",
      "40.750582    2\n",
      "40.824783    2\n",
      "40.512764    1\n",
      "            ..\n",
      "40.888300    1\n",
      "40.889248    1\n",
      "40.893193    1\n",
      "40.898379    1\n",
      "40.903125    1\n",
      "Name: count, Length: 492, dtype: int64\n",
      "\n",
      "\n",
      "Value counts for GTFS Longitude:\n",
      "GTFS Longitude\n",
      "-74.000495    2\n",
      "-73.944216    2\n",
      "-73.940202    2\n",
      "-73.834058    2\n",
      "-74.251961    1\n",
      "             ..\n",
      "-73.783817    1\n",
      "-73.776013    1\n",
      "-73.768175    1\n",
      "-73.761353    1\n",
      "-73.755405    1\n",
      "Name: count, Length: 492, dtype: int64\n",
      "\n",
      "\n",
      "Station ID        493\n",
      "Line               34\n",
      "Stop Name         378\n",
      "Borough             5\n",
      "GTFS Latitude     492\n",
      "GTFS Longitude    492\n",
      "dtype: int64\n",
      "Used memory: 0.65 GB\n"
     ]
    }
   ],
   "source": [
    "for column in mta_station_data.columns:\n",
    "    print(f\"Value counts for {column}:\")\n",
    "    value_counts = mta_station_data[column].value_counts().compute()\n",
    "    print(value_counts)\n",
    "    print(\"\\n\")\n",
    "    # print(f\"Unique values for {column}:\")\n",
    "    \n",
    "    # Replace null values with a placeholder or drop them\n",
    "    # taxi_busyness_data[column] = taxi_busyness_data[column].fillna(-1)  # Adjust based on data type and context\n",
    "    # print(\"hi\")\n",
    "    \n",
    "    # unique_values = taxi_busyness_data[column].unique_count()\n",
    "    # print(unique_values)\n",
    "    # print(\"\\n\")\n",
    "\n",
    "print(mta_station_data.nunique().compute())\n",
    "info = pynvml.nvmlDeviceGetMemoryInfo(handle)\n",
    "\n",
    "print(f'Used memory: {info.used / 1024**3:.2f} GB')\n"
   ]
  },
  {
   "cell_type": "code",
   "execution_count": 7,
   "metadata": {},
   "outputs": [],
   "source": [
    "unique_mta_station_data = mta_station_data.drop_duplicates(subset=['Station ID'], keep='first')"
   ]
  },
  {
   "cell_type": "code",
   "execution_count": 9,
   "metadata": {},
   "outputs": [
    {
     "name": "stdout",
     "output_type": "stream",
     "text": [
      "Value counts for Station ID:\n",
      "Station ID\n",
      "1      1\n",
      "2      1\n",
      "3      1\n",
      "4      1\n",
      "5      1\n",
      "      ..\n",
      "517    1\n",
      "518    1\n",
      "519    1\n",
      "522    1\n",
      "523    1\n",
      "Name: count, Length: 493, dtype: int64\n"
     ]
    }
   ],
   "source": [
    "print(f\"Value counts for Station ID:\")\n",
    "value_counts = unique_mta_station_data[\"Station ID\"].value_counts().compute()\n",
    "print(value_counts)"
   ]
  },
  {
   "cell_type": "code",
   "execution_count": 10,
   "metadata": {},
   "outputs": [
    {
     "data": {
      "text/plain": [
       "['/home/eamonn-walsh/Documents/Summer-Project/saved_csvs/mta_stations.csv']"
      ]
     },
     "execution_count": 10,
     "metadata": {},
     "output_type": "execute_result"
    }
   ],
   "source": [
    "unique_mta_station_data.to_csv('saved_csvs/mta_stations.csv', single_file=True)"
   ]
  },
  {
   "cell_type": "code",
   "execution_count": null,
   "metadata": {},
   "outputs": [],
   "source": []
  }
 ],
 "metadata": {
  "kernelspec": {
   "display_name": "rapids-24.04",
   "language": "python",
   "name": "python3"
  },
  "language_info": {
   "codemirror_mode": {
    "name": "ipython",
    "version": 3
   },
   "file_extension": ".py",
   "mimetype": "text/x-python",
   "name": "python",
   "nbconvert_exporter": "python",
   "pygments_lexer": "ipython3",
   "version": "3.11.9"
  }
 },
 "nbformat": 4,
 "nbformat_minor": 2
}
