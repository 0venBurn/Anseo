{
 "cells": [
  {
   "cell_type": "code",
   "execution_count": 1,
   "metadata": {},
   "outputs": [
    {
     "name": "stdout",
     "output_type": "stream",
     "text": [
      "Total memory: 8.00 GB\n",
      "Free memory: 7.60 GB\n",
      "Used memory: 0.40 GB\n"
     ]
    }
   ],
   "source": [
    "import pynvml\n",
    "pynvml.nvmlInit()\n",
    "handle = pynvml.nvmlDeviceGetHandleByIndex(0)\n",
    "info = pynvml.nvmlDeviceGetMemoryInfo(handle)\n",
    "print(f'Total memory: {info.total / 1024**3:.2f} GB')\n",
    "print(f'Free memory: {info.free / 1024**3:.2f} GB')\n",
    "print(f'Used memory: {info.used / 1024**3:.2f} GB')\n",
    "import dask_cudf\n",
    "import cupy as cp\n",
    "import rmm\n",
    "import cudf\n",
    "import gc\n",
    "import cudf.pandas\n",
    "cudf.pandas.install()\n",
    "import pandas as pd\n",
    "import numpy as np\n",
    "import matplotlib.pyplot as plt\n",
    "import seaborn as sns"
   ]
  },
  {
   "cell_type": "code",
   "execution_count": 3,
   "metadata": {},
   "outputs": [],
   "source": [
    "rolling_sales= dask_cudf.read_csv('nyc-rolling-sales.csv', blocksize=\"100MB\")\n"
   ]
  },
  {
   "cell_type": "code",
   "execution_count": 4,
   "metadata": {},
   "outputs": [
    {
     "data": {
      "text/plain": [
       "Index(['Unnamed: 0', 'BOROUGH', 'NEIGHBORHOOD', 'BUILDING CLASS CATEGORY',\n",
       "       'TAX CLASS AT PRESENT', 'BLOCK', 'LOT', 'EASE-MENT',\n",
       "       'BUILDING CLASS AT PRESENT', 'ADDRESS', 'APARTMENT NUMBER', 'ZIP CODE',\n",
       "       'RESIDENTIAL UNITS', 'COMMERCIAL UNITS', 'TOTAL UNITS',\n",
       "       'LAND SQUARE FEET', 'GROSS SQUARE FEET', 'YEAR BUILT',\n",
       "       'TAX CLASS AT TIME OF SALE', 'BUILDING CLASS AT TIME OF SALE',\n",
       "       'SALE PRICE', 'SALE DATE'],\n",
       "      dtype='object')"
      ]
     },
     "execution_count": 4,
     "metadata": {},
     "output_type": "execute_result"
    }
   ],
   "source": [
    "rolling_sales.columns"
   ]
  },
  {
   "cell_type": "code",
   "execution_count": 5,
   "metadata": {},
   "outputs": [],
   "source": [
    "rolling_sales = rolling_sales.drop(columns=['Unnamed: 0'])"
   ]
  },
  {
   "cell_type": "code",
   "execution_count": 6,
   "metadata": {},
   "outputs": [],
   "source": [
    "rolling_sales = rolling_sales[[\"BOROUGH\",\"NEIGHBORHOOD\",\"ZIP CODE\",\"BUILDING CLASS CATEGORY\",\"SALE PRICE\",\"SALE DATE\",\"COMMERCIAL UNITS\",\"TOTAL UNITS\",\"GROSS SQUARE FEET\"]]"
   ]
  },
  {
   "cell_type": "code",
   "execution_count": 12,
   "metadata": {},
   "outputs": [
    {
     "name": "stdout",
     "output_type": "stream",
     "text": [
      "84548\n"
     ]
    }
   ],
   "source": [
    "rows =  rolling_sales.shape[0].compute()\n",
    "print(rows)"
   ]
  },
  {
   "cell_type": "code",
   "execution_count": 14,
   "metadata": {},
   "outputs": [
    {
     "name": "stdout",
     "output_type": "stream",
     "text": [
      "BOROUGH                    0\n",
      "NEIGHBORHOOD               0\n",
      "ZIP CODE                   0\n",
      "BUILDING CLASS CATEGORY    0\n",
      "SALE PRICE                 0\n",
      "SALE DATE                  0\n",
      "COMMERCIAL UNITS           0\n",
      "TOTAL UNITS                0\n",
      "GROSS SQUARE FEET          0\n",
      "dtype: int64\n"
     ]
    }
   ],
   "source": [
    "null_counts = rolling_sales.isnull().sum()\n",
    "print(null_counts.compute())"
   ]
  },
  {
   "cell_type": "code",
   "execution_count": null,
   "metadata": {},
   "outputs": [],
   "source": []
  }
 ],
 "metadata": {
  "kernelspec": {
   "display_name": "rapids-24.04",
   "language": "python",
   "name": "python3"
  },
  "language_info": {
   "codemirror_mode": {
    "name": "ipython",
    "version": 3
   },
   "file_extension": ".py",
   "mimetype": "text/x-python",
   "name": "python",
   "nbconvert_exporter": "python",
   "pygments_lexer": "ipython3",
   "version": "3.1.-1"
  }
 },
 "nbformat": 4,
 "nbformat_minor": 2
}
