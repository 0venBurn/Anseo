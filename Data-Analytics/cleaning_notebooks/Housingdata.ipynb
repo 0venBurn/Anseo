{
 "cells": [
  {
   "cell_type": "markdown",
   "metadata": {},
   "source": [
    "# Cleaning the HousingValue and Rental datasets from (https://www.zillow.com/research/data/)"
   ]
  },
  {
   "cell_type": "code",
   "execution_count": 359,
   "metadata": {},
   "outputs": [],
   "source": [
    "import pandas as pd\n",
    "import numpy as np"
   ]
  },
  {
   "cell_type": "markdown",
   "metadata": {},
   "source": [
    "### Adding datasets to dataframes\n"
   ]
  },
  {
   "cell_type": "code",
   "execution_count": 360,
   "metadata": {},
   "outputs": [],
   "source": [
    "df_rentals = pd.read_csv('Rentals.csv')\n",
    "df_homeValues = pd.read_csv('HomeValues.csv')\n",
    "dataframes = [df_rentals, df_homeValues]"
   ]
  },
  {
   "cell_type": "code",
   "execution_count": 361,
   "metadata": {},
   "outputs": [
    {
     "data": {
      "text/html": [
       "<div>\n",
       "<style scoped>\n",
       "    .dataframe tbody tr th:only-of-type {\n",
       "        vertical-align: middle;\n",
       "    }\n",
       "\n",
       "    .dataframe tbody tr th {\n",
       "        vertical-align: top;\n",
       "    }\n",
       "\n",
       "    .dataframe thead th {\n",
       "        text-align: right;\n",
       "    }\n",
       "</style>\n",
       "<table border=\"1\" class=\"dataframe\">\n",
       "  <thead>\n",
       "    <tr style=\"text-align: right;\">\n",
       "      <th></th>\n",
       "      <th>RegionID</th>\n",
       "      <th>SizeRank</th>\n",
       "      <th>RegionName</th>\n",
       "      <th>RegionType</th>\n",
       "      <th>StateName</th>\n",
       "      <th>State</th>\n",
       "      <th>City</th>\n",
       "      <th>Metro</th>\n",
       "      <th>CountyName</th>\n",
       "      <th>2000-01-31</th>\n",
       "      <th>...</th>\n",
       "      <th>2023-07-31</th>\n",
       "      <th>2023-08-31</th>\n",
       "      <th>2023-09-30</th>\n",
       "      <th>2023-10-31</th>\n",
       "      <th>2023-11-30</th>\n",
       "      <th>2023-12-31</th>\n",
       "      <th>2024-01-31</th>\n",
       "      <th>2024-02-29</th>\n",
       "      <th>2024-03-31</th>\n",
       "      <th>2024-04-30</th>\n",
       "    </tr>\n",
       "  </thead>\n",
       "  <tbody>\n",
       "    <tr>\n",
       "      <th>0</th>\n",
       "      <td>91982</td>\n",
       "      <td>1</td>\n",
       "      <td>77494</td>\n",
       "      <td>zip</td>\n",
       "      <td>TX</td>\n",
       "      <td>TX</td>\n",
       "      <td>Katy</td>\n",
       "      <td>Houston-The Woodlands-Sugar Land, TX</td>\n",
       "      <td>Fort Bend County</td>\n",
       "      <td>213463.221766</td>\n",
       "      <td>...</td>\n",
       "      <td>488235.174762</td>\n",
       "      <td>490749.946441</td>\n",
       "      <td>492598.348830</td>\n",
       "      <td>493857.713761</td>\n",
       "      <td>494559.104796</td>\n",
       "      <td>495182.966394</td>\n",
       "      <td>496580.196689</td>\n",
       "      <td>498775.863988</td>\n",
       "      <td>501631.311127</td>\n",
       "      <td>504191.521560</td>\n",
       "    </tr>\n",
       "    <tr>\n",
       "      <th>1</th>\n",
       "      <td>61148</td>\n",
       "      <td>2</td>\n",
       "      <td>8701</td>\n",
       "      <td>zip</td>\n",
       "      <td>NJ</td>\n",
       "      <td>NJ</td>\n",
       "      <td>Lakewood</td>\n",
       "      <td>New York-Newark-Jersey City, NY-NJ-PA</td>\n",
       "      <td>Ocean County</td>\n",
       "      <td>137293.774710</td>\n",
       "      <td>...</td>\n",
       "      <td>552105.838958</td>\n",
       "      <td>557998.314944</td>\n",
       "      <td>564321.215281</td>\n",
       "      <td>571660.009863</td>\n",
       "      <td>578460.106425</td>\n",
       "      <td>583227.579651</td>\n",
       "      <td>584811.159583</td>\n",
       "      <td>587368.424745</td>\n",
       "      <td>592465.126119</td>\n",
       "      <td>600765.893612</td>\n",
       "    </tr>\n",
       "    <tr>\n",
       "      <th>2</th>\n",
       "      <td>91940</td>\n",
       "      <td>3</td>\n",
       "      <td>77449</td>\n",
       "      <td>zip</td>\n",
       "      <td>TX</td>\n",
       "      <td>TX</td>\n",
       "      <td>Katy</td>\n",
       "      <td>Houston-The Woodlands-Sugar Land, TX</td>\n",
       "      <td>Harris County</td>\n",
       "      <td>104657.662381</td>\n",
       "      <td>...</td>\n",
       "      <td>280286.283611</td>\n",
       "      <td>281194.368840</td>\n",
       "      <td>281734.942252</td>\n",
       "      <td>281724.603121</td>\n",
       "      <td>281486.774213</td>\n",
       "      <td>281192.083503</td>\n",
       "      <td>281550.767554</td>\n",
       "      <td>282258.587207</td>\n",
       "      <td>283366.392394</td>\n",
       "      <td>284335.695860</td>\n",
       "    </tr>\n",
       "    <tr>\n",
       "      <th>3</th>\n",
       "      <td>62080</td>\n",
       "      <td>4</td>\n",
       "      <td>11368</td>\n",
       "      <td>zip</td>\n",
       "      <td>NY</td>\n",
       "      <td>NY</td>\n",
       "      <td>New York</td>\n",
       "      <td>New York-Newark-Jersey City, NY-NJ-PA</td>\n",
       "      <td>Queens County</td>\n",
       "      <td>151159.744038</td>\n",
       "      <td>...</td>\n",
       "      <td>470293.119764</td>\n",
       "      <td>470287.047021</td>\n",
       "      <td>469717.985426</td>\n",
       "      <td>467648.873528</td>\n",
       "      <td>464224.467531</td>\n",
       "      <td>459848.455550</td>\n",
       "      <td>456960.515649</td>\n",
       "      <td>455322.918370</td>\n",
       "      <td>458447.265050</td>\n",
       "      <td>463052.465021</td>\n",
       "    </tr>\n",
       "    <tr>\n",
       "      <th>4</th>\n",
       "      <td>91733</td>\n",
       "      <td>5</td>\n",
       "      <td>77084</td>\n",
       "      <td>zip</td>\n",
       "      <td>TX</td>\n",
       "      <td>TX</td>\n",
       "      <td>Houston</td>\n",
       "      <td>Houston-The Woodlands-Sugar Land, TX</td>\n",
       "      <td>Harris County</td>\n",
       "      <td>103553.438861</td>\n",
       "      <td>...</td>\n",
       "      <td>274946.698136</td>\n",
       "      <td>275833.130611</td>\n",
       "      <td>276267.718851</td>\n",
       "      <td>276257.923524</td>\n",
       "      <td>275831.123272</td>\n",
       "      <td>275402.735803</td>\n",
       "      <td>275449.324127</td>\n",
       "      <td>275980.979306</td>\n",
       "      <td>276993.281910</td>\n",
       "      <td>277995.947760</td>\n",
       "    </tr>\n",
       "  </tbody>\n",
       "</table>\n",
       "<p>5 rows × 301 columns</p>\n",
       "</div>"
      ],
      "text/plain": [
       "   RegionID  SizeRank  RegionName RegionType StateName State      City  \\\n",
       "0     91982         1       77494        zip        TX    TX      Katy   \n",
       "1     61148         2        8701        zip        NJ    NJ  Lakewood   \n",
       "2     91940         3       77449        zip        TX    TX      Katy   \n",
       "3     62080         4       11368        zip        NY    NY  New York   \n",
       "4     91733         5       77084        zip        TX    TX   Houston   \n",
       "\n",
       "                                   Metro        CountyName     2000-01-31  \\\n",
       "0   Houston-The Woodlands-Sugar Land, TX  Fort Bend County  213463.221766   \n",
       "1  New York-Newark-Jersey City, NY-NJ-PA      Ocean County  137293.774710   \n",
       "2   Houston-The Woodlands-Sugar Land, TX     Harris County  104657.662381   \n",
       "3  New York-Newark-Jersey City, NY-NJ-PA     Queens County  151159.744038   \n",
       "4   Houston-The Woodlands-Sugar Land, TX     Harris County  103553.438861   \n",
       "\n",
       "   ...     2023-07-31     2023-08-31     2023-09-30     2023-10-31  \\\n",
       "0  ...  488235.174762  490749.946441  492598.348830  493857.713761   \n",
       "1  ...  552105.838958  557998.314944  564321.215281  571660.009863   \n",
       "2  ...  280286.283611  281194.368840  281734.942252  281724.603121   \n",
       "3  ...  470293.119764  470287.047021  469717.985426  467648.873528   \n",
       "4  ...  274946.698136  275833.130611  276267.718851  276257.923524   \n",
       "\n",
       "      2023-11-30     2023-12-31     2024-01-31     2024-02-29     2024-03-31  \\\n",
       "0  494559.104796  495182.966394  496580.196689  498775.863988  501631.311127   \n",
       "1  578460.106425  583227.579651  584811.159583  587368.424745  592465.126119   \n",
       "2  281486.774213  281192.083503  281550.767554  282258.587207  283366.392394   \n",
       "3  464224.467531  459848.455550  456960.515649  455322.918370  458447.265050   \n",
       "4  275831.123272  275402.735803  275449.324127  275980.979306  276993.281910   \n",
       "\n",
       "      2024-04-30  \n",
       "0  504191.521560  \n",
       "1  600765.893612  \n",
       "2  284335.695860  \n",
       "3  463052.465021  \n",
       "4  277995.947760  \n",
       "\n",
       "[5 rows x 301 columns]"
      ]
     },
     "execution_count": 361,
     "metadata": {},
     "output_type": "execute_result"
    }
   ],
   "source": [
    "df_homeValues.head()"
   ]
  },
  {
   "cell_type": "code",
   "execution_count": 362,
   "metadata": {},
   "outputs": [
    {
     "data": {
      "text/html": [
       "<div>\n",
       "<style scoped>\n",
       "    .dataframe tbody tr th:only-of-type {\n",
       "        vertical-align: middle;\n",
       "    }\n",
       "\n",
       "    .dataframe tbody tr th {\n",
       "        vertical-align: top;\n",
       "    }\n",
       "\n",
       "    .dataframe thead th {\n",
       "        text-align: right;\n",
       "    }\n",
       "</style>\n",
       "<table border=\"1\" class=\"dataframe\">\n",
       "  <thead>\n",
       "    <tr style=\"text-align: right;\">\n",
       "      <th></th>\n",
       "      <th>RegionID</th>\n",
       "      <th>SizeRank</th>\n",
       "      <th>RegionName</th>\n",
       "      <th>RegionType</th>\n",
       "      <th>StateName</th>\n",
       "      <th>State</th>\n",
       "      <th>City</th>\n",
       "      <th>Metro</th>\n",
       "      <th>CountyName</th>\n",
       "      <th>2015-01-31</th>\n",
       "      <th>...</th>\n",
       "      <th>2023-07-31</th>\n",
       "      <th>2023-08-31</th>\n",
       "      <th>2023-09-30</th>\n",
       "      <th>2023-10-31</th>\n",
       "      <th>2023-11-30</th>\n",
       "      <th>2023-12-31</th>\n",
       "      <th>2024-01-31</th>\n",
       "      <th>2024-02-29</th>\n",
       "      <th>2024-03-31</th>\n",
       "      <th>2024-04-30</th>\n",
       "    </tr>\n",
       "  </thead>\n",
       "  <tbody>\n",
       "    <tr>\n",
       "      <th>0</th>\n",
       "      <td>91982</td>\n",
       "      <td>1</td>\n",
       "      <td>77494</td>\n",
       "      <td>zip</td>\n",
       "      <td>TX</td>\n",
       "      <td>TX</td>\n",
       "      <td>Katy</td>\n",
       "      <td>Houston-The Woodlands-Sugar Land, TX</td>\n",
       "      <td>Fort Bend County</td>\n",
       "      <td>1555.536799</td>\n",
       "      <td>...</td>\n",
       "      <td>1934.844177</td>\n",
       "      <td>1941.327788</td>\n",
       "      <td>1948.778725</td>\n",
       "      <td>1957.250001</td>\n",
       "      <td>1960.066902</td>\n",
       "      <td>1963.351201</td>\n",
       "      <td>1958.278876</td>\n",
       "      <td>1968.720406</td>\n",
       "      <td>1974.775402</td>\n",
       "      <td>1997.871160</td>\n",
       "    </tr>\n",
       "    <tr>\n",
       "      <th>1</th>\n",
       "      <td>91940</td>\n",
       "      <td>3</td>\n",
       "      <td>77449</td>\n",
       "      <td>zip</td>\n",
       "      <td>TX</td>\n",
       "      <td>TX</td>\n",
       "      <td>Katy</td>\n",
       "      <td>Houston-The Woodlands-Sugar Land, TX</td>\n",
       "      <td>Harris County</td>\n",
       "      <td>1284.029481</td>\n",
       "      <td>...</td>\n",
       "      <td>1806.015681</td>\n",
       "      <td>1794.944195</td>\n",
       "      <td>1800.444825</td>\n",
       "      <td>1806.571861</td>\n",
       "      <td>1820.391306</td>\n",
       "      <td>1826.888729</td>\n",
       "      <td>1844.605739</td>\n",
       "      <td>1848.969319</td>\n",
       "      <td>1851.221071</td>\n",
       "      <td>1855.652381</td>\n",
       "    </tr>\n",
       "    <tr>\n",
       "      <th>2</th>\n",
       "      <td>62080</td>\n",
       "      <td>4</td>\n",
       "      <td>11368</td>\n",
       "      <td>zip</td>\n",
       "      <td>NY</td>\n",
       "      <td>NY</td>\n",
       "      <td>New York</td>\n",
       "      <td>New York-Newark-Jersey City, NY-NJ-PA</td>\n",
       "      <td>Queens County</td>\n",
       "      <td>NaN</td>\n",
       "      <td>...</td>\n",
       "      <td>NaN</td>\n",
       "      <td>NaN</td>\n",
       "      <td>NaN</td>\n",
       "      <td>NaN</td>\n",
       "      <td>NaN</td>\n",
       "      <td>NaN</td>\n",
       "      <td>NaN</td>\n",
       "      <td>NaN</td>\n",
       "      <td>NaN</td>\n",
       "      <td>2200.000000</td>\n",
       "    </tr>\n",
       "    <tr>\n",
       "      <th>3</th>\n",
       "      <td>91733</td>\n",
       "      <td>5</td>\n",
       "      <td>77084</td>\n",
       "      <td>zip</td>\n",
       "      <td>TX</td>\n",
       "      <td>TX</td>\n",
       "      <td>Houston</td>\n",
       "      <td>Houston-The Woodlands-Sugar Land, TX</td>\n",
       "      <td>Harris County</td>\n",
       "      <td>NaN</td>\n",
       "      <td>...</td>\n",
       "      <td>1738.168997</td>\n",
       "      <td>1747.816089</td>\n",
       "      <td>1749.620035</td>\n",
       "      <td>1773.816143</td>\n",
       "      <td>1777.586181</td>\n",
       "      <td>1790.317844</td>\n",
       "      <td>1789.793785</td>\n",
       "      <td>1794.866847</td>\n",
       "      <td>1794.670427</td>\n",
       "      <td>1800.256223</td>\n",
       "    </tr>\n",
       "    <tr>\n",
       "      <th>4</th>\n",
       "      <td>93144</td>\n",
       "      <td>6</td>\n",
       "      <td>79936</td>\n",
       "      <td>zip</td>\n",
       "      <td>TX</td>\n",
       "      <td>TX</td>\n",
       "      <td>El Paso</td>\n",
       "      <td>El Paso, TX</td>\n",
       "      <td>El Paso County</td>\n",
       "      <td>NaN</td>\n",
       "      <td>...</td>\n",
       "      <td>1409.301198</td>\n",
       "      <td>1412.328423</td>\n",
       "      <td>1411.361263</td>\n",
       "      <td>1419.035194</td>\n",
       "      <td>1422.825104</td>\n",
       "      <td>1437.591357</td>\n",
       "      <td>1436.376828</td>\n",
       "      <td>1436.279997</td>\n",
       "      <td>1437.440684</td>\n",
       "      <td>1448.527778</td>\n",
       "    </tr>\n",
       "  </tbody>\n",
       "</table>\n",
       "<p>5 rows × 121 columns</p>\n",
       "</div>"
      ],
      "text/plain": [
       "   RegionID  SizeRank  RegionName RegionType StateName State      City  \\\n",
       "0     91982         1       77494        zip        TX    TX      Katy   \n",
       "1     91940         3       77449        zip        TX    TX      Katy   \n",
       "2     62080         4       11368        zip        NY    NY  New York   \n",
       "3     91733         5       77084        zip        TX    TX   Houston   \n",
       "4     93144         6       79936        zip        TX    TX   El Paso   \n",
       "\n",
       "                                   Metro        CountyName   2015-01-31  ...  \\\n",
       "0   Houston-The Woodlands-Sugar Land, TX  Fort Bend County  1555.536799  ...   \n",
       "1   Houston-The Woodlands-Sugar Land, TX     Harris County  1284.029481  ...   \n",
       "2  New York-Newark-Jersey City, NY-NJ-PA     Queens County          NaN  ...   \n",
       "3   Houston-The Woodlands-Sugar Land, TX     Harris County          NaN  ...   \n",
       "4                            El Paso, TX    El Paso County          NaN  ...   \n",
       "\n",
       "    2023-07-31   2023-08-31   2023-09-30   2023-10-31   2023-11-30  \\\n",
       "0  1934.844177  1941.327788  1948.778725  1957.250001  1960.066902   \n",
       "1  1806.015681  1794.944195  1800.444825  1806.571861  1820.391306   \n",
       "2          NaN          NaN          NaN          NaN          NaN   \n",
       "3  1738.168997  1747.816089  1749.620035  1773.816143  1777.586181   \n",
       "4  1409.301198  1412.328423  1411.361263  1419.035194  1422.825104   \n",
       "\n",
       "    2023-12-31   2024-01-31   2024-02-29   2024-03-31   2024-04-30  \n",
       "0  1963.351201  1958.278876  1968.720406  1974.775402  1997.871160  \n",
       "1  1826.888729  1844.605739  1848.969319  1851.221071  1855.652381  \n",
       "2          NaN          NaN          NaN          NaN  2200.000000  \n",
       "3  1790.317844  1789.793785  1794.866847  1794.670427  1800.256223  \n",
       "4  1437.591357  1436.376828  1436.279997  1437.440684  1448.527778  \n",
       "\n",
       "[5 rows x 121 columns]"
      ]
     },
     "execution_count": 362,
     "metadata": {},
     "output_type": "execute_result"
    }
   ],
   "source": [
    "df_rentals.head()"
   ]
  },
  {
   "cell_type": "markdown",
   "metadata": {},
   "source": [
    "### Checking datatypes and columns "
   ]
  },
  {
   "cell_type": "code",
   "execution_count": 363,
   "metadata": {},
   "outputs": [
    {
     "data": {
      "text/plain": [
       "RegionID        int64\n",
       "SizeRank        int64\n",
       "RegionName      int64\n",
       "RegionType     object\n",
       "StateName      object\n",
       "               ...   \n",
       "2023-12-31    float64\n",
       "2024-01-31    float64\n",
       "2024-02-29    float64\n",
       "2024-03-31    float64\n",
       "2024-04-30    float64\n",
       "Length: 121, dtype: object"
      ]
     },
     "execution_count": 363,
     "metadata": {},
     "output_type": "execute_result"
    }
   ],
   "source": [
    "#show counts of each column\n",
    "df_rentals.dtypes"
   ]
  },
  {
   "cell_type": "code",
   "execution_count": 364,
   "metadata": {},
   "outputs": [
    {
     "data": {
      "text/plain": [
       "RegionID        int64\n",
       "SizeRank        int64\n",
       "RegionName      int64\n",
       "RegionType     object\n",
       "StateName      object\n",
       "               ...   \n",
       "2023-12-31    float64\n",
       "2024-01-31    float64\n",
       "2024-02-29    float64\n",
       "2024-03-31    float64\n",
       "2024-04-30    float64\n",
       "Length: 301, dtype: object"
      ]
     },
     "execution_count": 364,
     "metadata": {},
     "output_type": "execute_result"
    }
   ],
   "source": [
    "df_homeValues.dtypes"
   ]
  },
  {
   "cell_type": "code",
   "execution_count": 365,
   "metadata": {},
   "outputs": [
    {
     "name": "stdout",
     "output_type": "stream",
     "text": [
      "Index(['RegionID', 'SizeRank', 'RegionName', 'RegionType', 'StateName',\n",
      "       'State', 'City', 'Metro', 'CountyName', '2015-01-31',\n",
      "       ...\n",
      "       '2023-07-31', '2023-08-31', '2023-09-30', '2023-10-31', '2023-11-30',\n",
      "       '2023-12-31', '2024-01-31', '2024-02-29', '2024-03-31', '2024-04-30'],\n",
      "      dtype='object', length=121)\n",
      "Index(['RegionID', 'SizeRank', 'RegionName', 'RegionType', 'StateName',\n",
      "       'State', 'City', 'Metro', 'CountyName', '2000-01-31',\n",
      "       ...\n",
      "       '2023-07-31', '2023-08-31', '2023-09-30', '2023-10-31', '2023-11-30',\n",
      "       '2023-12-31', '2024-01-31', '2024-02-29', '2024-03-31', '2024-04-30'],\n",
      "      dtype='object', length=301)\n"
     ]
    }
   ],
   "source": [
    "print(df_rentals.columns)\n",
    "print(df_homeValues.columns)"
   ]
  },
  {
   "cell_type": "markdown",
   "metadata": {},
   "source": [
    "### Changing descriptive columns to type category"
   ]
  },
  {
   "cell_type": "code",
   "execution_count": 366,
   "metadata": {},
   "outputs": [
    {
     "name": "stdout",
     "output_type": "stream",
     "text": [
      "RegionID      category\n",
      "SizeRank      category\n",
      "RegionName    category\n",
      "RegionType    category\n",
      "StateName     category\n",
      "                ...   \n",
      "2023-12-31     float64\n",
      "2024-01-31     float64\n",
      "2024-02-29     float64\n",
      "2024-03-31     float64\n",
      "2024-04-30     float64\n",
      "Length: 121, dtype: object\n",
      "RegionID      category\n",
      "SizeRank      category\n",
      "RegionName    category\n",
      "RegionType    category\n",
      "StateName     category\n",
      "                ...   \n",
      "2023-12-31     float64\n",
      "2024-01-31     float64\n",
      "2024-02-29     float64\n",
      "2024-03-31     float64\n",
      "2024-04-30     float64\n",
      "Length: 301, dtype: object\n"
     ]
    }
   ],
   "source": [
    "#change ['RegionID', 'SizeRank', 'RegionName', 'RegionType', 'StateName','State', 'City', 'Metro', 'CountyName'] to category\n",
    "for df in dataframes:\n",
    "    df['RegionID'] = df['RegionID'].astype('category')\n",
    "    df['SizeRank'] = df['SizeRank'].astype('category')\n",
    "    df['RegionName'] = df['RegionName'].astype('category')\n",
    "    df['RegionType'] = df['RegionType'].astype('category')\n",
    "    df['StateName'] = df['StateName'].astype('category')\n",
    "    df['State'] = df['State'].astype('category')\n",
    "    df['City'] = df['City'].astype('category')\n",
    "    df['Metro'] = df['Metro'].astype('category')\n",
    "    df['CountyName'] = df['CountyName'].astype('category')\n",
    "\n",
    "for df in dataframes:\n",
    "    print(df.dtypes)"
   ]
  },
  {
   "cell_type": "markdown",
   "metadata": {},
   "source": [
    "### Removing all rows that aren't based in New York or New Jersey"
   ]
  },
  {
   "cell_type": "code",
   "execution_count": 367,
   "metadata": {},
   "outputs": [
    {
     "name": "stdout",
     "output_type": "stream",
     "text": [
      "Number of rows in df_rentals: 7115\n",
      "Number of rows in df_homeValues: 26348\n",
      "Rows removed.\n",
      "Number of rows in df_rentals: 511\n",
      "Number of rows in df_homeValues: 2108\n"
     ]
    }
   ],
   "source": [
    "# Count the rows in df_rentals\n",
    "num_rows_rentals = df_rentals.shape[0]\n",
    "print(f\"Number of rows in df_rentals: {num_rows_rentals}\")\n",
    "\n",
    "# Count the rows in df_homeValues\n",
    "num_rows_homeValues = df_homeValues.shape[0]\n",
    "print(f\"Number of rows in df_homeValues: {num_rows_homeValues}\")\n",
    "\n",
    "#remove rows without state = NY or NJ\n",
    "df_rentals = df_rentals[df_rentals['State'].isin(['NY', 'NJ'])]\n",
    "df_homeValues = df_homeValues[df_homeValues['State'].isin(['NY', 'NJ'])]\n",
    "print (\"Rows removed.\")\n",
    "\n",
    "# Count the rows in df_rentals\n",
    "num_rows_rentals = df_rentals.shape[0]\n",
    "print(f\"Number of rows in df_rentals: {num_rows_rentals}\")\n",
    "\n",
    "# Count the rows in df_homeValues\n",
    "num_rows_homeValues = df_homeValues.shape[0]\n",
    "print(f\"Number of rows in df_homeValues: {num_rows_homeValues}\")"
   ]
  },
  {
   "cell_type": "markdown",
   "metadata": {},
   "source": [
    "### Checking for duplicate rows or columns"
   ]
  },
  {
   "cell_type": "code",
   "execution_count": 368,
   "metadata": {},
   "outputs": [
    {
     "name": "stdout",
     "output_type": "stream",
     "text": [
      "Number of duplicate (excluding first) rows in the table is:  0\n",
      "Number of duplicate rows (including first) in the table is: 0\n",
      "Number of duplicate (excluding first) columns in the table is:  1\n",
      "Number of duplicate (including first) columns in the table is:  2\n",
      "Number of duplicate (excluding first) rows in the table is:  0\n",
      "Number of duplicate rows (including first) in the table is: 0\n",
      "Number of duplicate (excluding first) columns in the table is:  1\n",
      "Number of duplicate (including first) columns in the table is:  2\n"
     ]
    }
   ],
   "source": [
    "for df in dataframes:\n",
    "\n",
    "    #Print the number of duplicates, without the original rows that were duplicated\n",
    "    print('Number of duplicate (excluding first) rows in the table is: ', df.duplicated().sum())\n",
    "\n",
    "    # Check for duplicate rows. \n",
    "    # Use \"keep=False\" to mark all duplicates as true, including the original rows that were duplicated.\n",
    "    print('Number of duplicate rows (including first) in the table is:', df[df.duplicated(keep=False)].shape[0])\n",
    "\n",
    "    # Check for duplicate columns\n",
    "    #First transpose the df so columns become rows, then apply the same check as above\n",
    "    dfT = df.T\n",
    "    print(\"Number of duplicate (excluding first) columns in the table is: \", dfT.duplicated().sum())\n",
    "    print(\"Number of duplicate (including first) columns in the table is: \",  dfT[dfT.duplicated(keep=False)].shape[0])\n",
    "\n"
   ]
  },
  {
   "cell_type": "markdown",
   "metadata": {},
   "source": [
    "### Identifying and removing duplicate columns "
   ]
  },
  {
   "cell_type": "code",
   "execution_count": 369,
   "metadata": {},
   "outputs": [
    {
     "name": "stdout",
     "output_type": "stream",
     "text": [
      "Duplicate columns are:  Index(['StateName', 'State'], dtype='object')\n"
     ]
    }
   ],
   "source": [
    "#if there are 2 duplicate columns, identify them\n",
    "dfT = df_rentals.T\n",
    "print(\"Duplicate columns are: \", dfT[dfT.duplicated(keep=False)].index)\n",
    "\n"
   ]
  },
  {
   "cell_type": "markdown",
   "metadata": {},
   "source": [
    "## Remove rows "
   ]
  },
  {
   "cell_type": "code",
   "execution_count": 370,
   "metadata": {},
   "outputs": [
    {
     "name": "stdout",
     "output_type": "stream",
     "text": [
      "Columns removed.\n"
     ]
    }
   ],
   "source": [
    "#remove the every category column except for RegionName\n",
    "df_rentals = df_rentals.drop(['RegionID', 'SizeRank', 'RegionType', 'StateName', 'State', 'City', 'Metro', 'CountyName'], axis=1)\n",
    "df_homeValues = df_homeValues.drop(['RegionID', 'SizeRank', 'RegionType', 'StateName', 'State', 'City', 'Metro', 'CountyName'], axis=1)\n",
    "\n",
    "print(\"Columns removed.\")"
   ]
  },
  {
   "cell_type": "markdown",
   "metadata": {},
   "source": [
    "# Adding New york zip code information"
   ]
  },
  {
   "cell_type": "code",
   "execution_count": 371,
   "metadata": {},
   "outputs": [
    {
     "data": {
      "text/html": [
       "<div>\n",
       "<style scoped>\n",
       "    .dataframe tbody tr th:only-of-type {\n",
       "        vertical-align: middle;\n",
       "    }\n",
       "\n",
       "    .dataframe tbody tr th {\n",
       "        vertical-align: top;\n",
       "    }\n",
       "\n",
       "    .dataframe thead th {\n",
       "        text-align: right;\n",
       "    }\n",
       "</style>\n",
       "<table border=\"1\" class=\"dataframe\">\n",
       "  <thead>\n",
       "    <tr style=\"text-align: right;\">\n",
       "      <th></th>\n",
       "      <th>Borough</th>\n",
       "      <th>Neighborhood</th>\n",
       "      <th>ZipCode</th>\n",
       "    </tr>\n",
       "  </thead>\n",
       "  <tbody>\n",
       "    <tr>\n",
       "      <th>0</th>\n",
       "      <td>Bronx</td>\n",
       "      <td>Central Bronx</td>\n",
       "      <td>10453</td>\n",
       "    </tr>\n",
       "    <tr>\n",
       "      <th>1</th>\n",
       "      <td>Bronx</td>\n",
       "      <td>Central Bronx</td>\n",
       "      <td>10457</td>\n",
       "    </tr>\n",
       "    <tr>\n",
       "      <th>2</th>\n",
       "      <td>Bronx</td>\n",
       "      <td>Central Bronx</td>\n",
       "      <td>10460</td>\n",
       "    </tr>\n",
       "    <tr>\n",
       "      <th>3</th>\n",
       "      <td>Bronx</td>\n",
       "      <td>Bronx Park and Fordham</td>\n",
       "      <td>10458</td>\n",
       "    </tr>\n",
       "    <tr>\n",
       "      <th>4</th>\n",
       "      <td>Bronx</td>\n",
       "      <td>Bronx Park and Fordham</td>\n",
       "      <td>10467</td>\n",
       "    </tr>\n",
       "  </tbody>\n",
       "</table>\n",
       "</div>"
      ],
      "text/plain": [
       "  Borough            Neighborhood  ZipCode\n",
       "0   Bronx           Central Bronx    10453\n",
       "1   Bronx           Central Bronx    10457\n",
       "2   Bronx           Central Bronx    10460\n",
       "3   Bronx  Bronx Park and Fordham    10458\n",
       "4   Bronx  Bronx Park and Fordham    10467"
      ]
     },
     "execution_count": 371,
     "metadata": {},
     "output_type": "execute_result"
    }
   ],
   "source": [
    "df_zip_codes = pd.read_csv('nyc-zip-codes.csv')\n",
    "df_zip_codes.head()"
   ]
  },
  {
   "cell_type": "code",
   "execution_count": 372,
   "metadata": {},
   "outputs": [
    {
     "name": "stdout",
     "output_type": "stream",
     "text": [
      "Number of rows in df_zip_codes: 178\n"
     ]
    }
   ],
   "source": [
    "#count rows in df_zip_codes\n",
    "num_rows_zip_codes = df_zip_codes.shape[0]\n",
    "print(f\"Number of rows in df_zip_codes: {num_rows_zip_codes}\")\n"
   ]
  },
  {
   "cell_type": "markdown",
   "metadata": {},
   "source": [
    "### Removing any data that doesn't have a zipcode within New york city"
   ]
  },
  {
   "cell_type": "code",
   "execution_count": 373,
   "metadata": {},
   "outputs": [
    {
     "name": "stdout",
     "output_type": "stream",
     "text": [
      "Number of rows in df_rentals: 511\n",
      "Number of rows in df_homeValues: 2108\n"
     ]
    }
   ],
   "source": [
    "#Only keep rows that have a zip code in the df_zip_codes dataframe\n",
    "#count the rows in df_rentals\n",
    "num_rows_rentals = df_rentals.shape[0]\n",
    "print(f\"Number of rows in df_rentals: {num_rows_rentals}\")\n",
    "\n",
    "#count the rows in df_homeValues\n",
    "num_rows_homeValues = df_homeValues.shape[0]\n",
    "print(f\"Number of rows in df_homeValues: {num_rows_homeValues}\") \n",
    "\n",
    "df_rentals = df_rentals[df_rentals['RegionName'].isin(df_zip_codes['ZipCode'])]\n",
    "df_homeValues = df_homeValues[df_homeValues['RegionName'].isin(df_zip_codes['ZipCode'])]\n",
    "\n"
   ]
  },
  {
   "cell_type": "markdown",
   "metadata": {},
   "source": [
    "### Removing columns before 2018"
   ]
  },
  {
   "cell_type": "code",
   "execution_count": 374,
   "metadata": {},
   "outputs": [
    {
     "name": "stdout",
     "output_type": "stream",
     "text": [
      "Columns removed.\n"
     ]
    },
    {
     "data": {
      "text/html": [
       "<div>\n",
       "<style scoped>\n",
       "    .dataframe tbody tr th:only-of-type {\n",
       "        vertical-align: middle;\n",
       "    }\n",
       "\n",
       "    .dataframe tbody tr th {\n",
       "        vertical-align: top;\n",
       "    }\n",
       "\n",
       "    .dataframe thead th {\n",
       "        text-align: right;\n",
       "    }\n",
       "</style>\n",
       "<table border=\"1\" class=\"dataframe\">\n",
       "  <thead>\n",
       "    <tr style=\"text-align: right;\">\n",
       "      <th></th>\n",
       "      <th>RegionName</th>\n",
       "      <th>2018-01-31</th>\n",
       "      <th>2018-02-28</th>\n",
       "      <th>2018-03-31</th>\n",
       "      <th>2018-04-30</th>\n",
       "      <th>2018-05-31</th>\n",
       "      <th>2018-06-30</th>\n",
       "      <th>2018-07-31</th>\n",
       "      <th>2018-08-31</th>\n",
       "      <th>2018-09-30</th>\n",
       "      <th>...</th>\n",
       "      <th>2023-07-31</th>\n",
       "      <th>2023-08-31</th>\n",
       "      <th>2023-09-30</th>\n",
       "      <th>2023-10-31</th>\n",
       "      <th>2023-11-30</th>\n",
       "      <th>2023-12-31</th>\n",
       "      <th>2024-01-31</th>\n",
       "      <th>2024-02-29</th>\n",
       "      <th>2024-03-31</th>\n",
       "      <th>2024-04-30</th>\n",
       "    </tr>\n",
       "  </thead>\n",
       "  <tbody>\n",
       "    <tr>\n",
       "      <th>2</th>\n",
       "      <td>11368</td>\n",
       "      <td>NaN</td>\n",
       "      <td>NaN</td>\n",
       "      <td>NaN</td>\n",
       "      <td>NaN</td>\n",
       "      <td>NaN</td>\n",
       "      <td>NaN</td>\n",
       "      <td>NaN</td>\n",
       "      <td>NaN</td>\n",
       "      <td>NaN</td>\n",
       "      <td>...</td>\n",
       "      <td>NaN</td>\n",
       "      <td>NaN</td>\n",
       "      <td>NaN</td>\n",
       "      <td>NaN</td>\n",
       "      <td>NaN</td>\n",
       "      <td>NaN</td>\n",
       "      <td>NaN</td>\n",
       "      <td>NaN</td>\n",
       "      <td>NaN</td>\n",
       "      <td>2200.000000</td>\n",
       "    </tr>\n",
       "    <tr>\n",
       "      <th>5</th>\n",
       "      <td>11385</td>\n",
       "      <td>2326.050511</td>\n",
       "      <td>2297.126722</td>\n",
       "      <td>2307.916520</td>\n",
       "      <td>2312.323474</td>\n",
       "      <td>2338.740709</td>\n",
       "      <td>2323.409658</td>\n",
       "      <td>2323.637606</td>\n",
       "      <td>2321.374938</td>\n",
       "      <td>2329.475916</td>\n",
       "      <td>...</td>\n",
       "      <td>2904.439104</td>\n",
       "      <td>2905.198054</td>\n",
       "      <td>2915.447936</td>\n",
       "      <td>2919.059660</td>\n",
       "      <td>2940.818440</td>\n",
       "      <td>2963.825136</td>\n",
       "      <td>2996.489860</td>\n",
       "      <td>3020.067111</td>\n",
       "      <td>3053.139273</td>\n",
       "      <td>3058.845842</td>\n",
       "    </tr>\n",
       "    <tr>\n",
       "      <th>7</th>\n",
       "      <td>11208</td>\n",
       "      <td>NaN</td>\n",
       "      <td>NaN</td>\n",
       "      <td>NaN</td>\n",
       "      <td>NaN</td>\n",
       "      <td>NaN</td>\n",
       "      <td>NaN</td>\n",
       "      <td>NaN</td>\n",
       "      <td>NaN</td>\n",
       "      <td>NaN</td>\n",
       "      <td>...</td>\n",
       "      <td>2604.968839</td>\n",
       "      <td>2592.066513</td>\n",
       "      <td>2616.362749</td>\n",
       "      <td>2630.507800</td>\n",
       "      <td>2693.001037</td>\n",
       "      <td>2698.199488</td>\n",
       "      <td>2721.220653</td>\n",
       "      <td>2727.986231</td>\n",
       "      <td>2785.821331</td>\n",
       "      <td>2752.694444</td>\n",
       "    </tr>\n",
       "    <tr>\n",
       "      <th>14</th>\n",
       "      <td>11236</td>\n",
       "      <td>NaN</td>\n",
       "      <td>NaN</td>\n",
       "      <td>NaN</td>\n",
       "      <td>NaN</td>\n",
       "      <td>NaN</td>\n",
       "      <td>NaN</td>\n",
       "      <td>NaN</td>\n",
       "      <td>NaN</td>\n",
       "      <td>NaN</td>\n",
       "      <td>...</td>\n",
       "      <td>NaN</td>\n",
       "      <td>2553.409960</td>\n",
       "      <td>2634.676661</td>\n",
       "      <td>2654.310929</td>\n",
       "      <td>2713.608709</td>\n",
       "      <td>2721.708833</td>\n",
       "      <td>2819.462296</td>\n",
       "      <td>2925.528978</td>\n",
       "      <td>2970.704688</td>\n",
       "      <td>2951.833333</td>\n",
       "    </tr>\n",
       "    <tr>\n",
       "      <th>15</th>\n",
       "      <td>10467</td>\n",
       "      <td>1274.181284</td>\n",
       "      <td>1289.016187</td>\n",
       "      <td>1303.195413</td>\n",
       "      <td>1357.904525</td>\n",
       "      <td>1348.784335</td>\n",
       "      <td>1354.926101</td>\n",
       "      <td>1347.079955</td>\n",
       "      <td>1373.191788</td>\n",
       "      <td>1381.515955</td>\n",
       "      <td>...</td>\n",
       "      <td>1783.452469</td>\n",
       "      <td>1808.274423</td>\n",
       "      <td>1861.706482</td>\n",
       "      <td>1905.551507</td>\n",
       "      <td>1962.385436</td>\n",
       "      <td>1959.559624</td>\n",
       "      <td>1982.547741</td>\n",
       "      <td>1969.624655</td>\n",
       "      <td>2008.254253</td>\n",
       "      <td>2077.934524</td>\n",
       "    </tr>\n",
       "  </tbody>\n",
       "</table>\n",
       "<p>5 rows × 77 columns</p>\n",
       "</div>"
      ],
      "text/plain": [
       "   RegionName   2018-01-31   2018-02-28   2018-03-31   2018-04-30  \\\n",
       "2       11368          NaN          NaN          NaN          NaN   \n",
       "5       11385  2326.050511  2297.126722  2307.916520  2312.323474   \n",
       "7       11208          NaN          NaN          NaN          NaN   \n",
       "14      11236          NaN          NaN          NaN          NaN   \n",
       "15      10467  1274.181284  1289.016187  1303.195413  1357.904525   \n",
       "\n",
       "     2018-05-31   2018-06-30   2018-07-31   2018-08-31   2018-09-30  ...  \\\n",
       "2           NaN          NaN          NaN          NaN          NaN  ...   \n",
       "5   2338.740709  2323.409658  2323.637606  2321.374938  2329.475916  ...   \n",
       "7           NaN          NaN          NaN          NaN          NaN  ...   \n",
       "14          NaN          NaN          NaN          NaN          NaN  ...   \n",
       "15  1348.784335  1354.926101  1347.079955  1373.191788  1381.515955  ...   \n",
       "\n",
       "     2023-07-31   2023-08-31   2023-09-30   2023-10-31   2023-11-30  \\\n",
       "2           NaN          NaN          NaN          NaN          NaN   \n",
       "5   2904.439104  2905.198054  2915.447936  2919.059660  2940.818440   \n",
       "7   2604.968839  2592.066513  2616.362749  2630.507800  2693.001037   \n",
       "14          NaN  2553.409960  2634.676661  2654.310929  2713.608709   \n",
       "15  1783.452469  1808.274423  1861.706482  1905.551507  1962.385436   \n",
       "\n",
       "     2023-12-31   2024-01-31   2024-02-29   2024-03-31   2024-04-30  \n",
       "2           NaN          NaN          NaN          NaN  2200.000000  \n",
       "5   2963.825136  2996.489860  3020.067111  3053.139273  3058.845842  \n",
       "7   2698.199488  2721.220653  2727.986231  2785.821331  2752.694444  \n",
       "14  2721.708833  2819.462296  2925.528978  2970.704688  2951.833333  \n",
       "15  1959.559624  1982.547741  1969.624655  2008.254253  2077.934524  \n",
       "\n",
       "[5 rows x 77 columns]"
      ]
     },
     "execution_count": 374,
     "metadata": {},
     "output_type": "execute_result"
    }
   ],
   "source": [
    "#remove column if the regionname is before 2018-01\n",
    "df_rentals = df_rentals.drop(df_rentals.columns[1:df_rentals.columns.get_loc('2018-01-31')], axis=1)\n",
    "\n",
    "df_homeValues = df_homeValues.drop(df_homeValues.columns[1:df_homeValues.columns.get_loc('2018-01-31')], axis=1)\n",
    "\n",
    "print(\"Columns removed.\")\n",
    "\n",
    "df_rentals.head()"
   ]
  },
  {
   "cell_type": "markdown",
   "metadata": {},
   "source": [
    "## Melting the data"
   ]
  },
  {
   "cell_type": "code",
   "execution_count": 375,
   "metadata": {},
   "outputs": [
    {
     "name": "stdout",
     "output_type": "stream",
     "text": [
      "Transformed df_rentals:\n",
      "  RegionName        Date  RentalValue\n",
      "0      11368  2018-01-31          NaN\n",
      "1      11385  2018-01-31  2326.050511\n",
      "2      11208  2018-01-31          NaN\n",
      "3      11236  2018-01-31          NaN\n",
      "4      10467  2018-01-31  1274.181284\n",
      "\n",
      "Transformed df_homeValues:\n",
      "  RegionName        Date      HomeValue\n",
      "0      11368  2018-01-31  475623.750409\n",
      "1      11385  2018-01-31  689332.524200\n",
      "2      11208  2018-01-31  476537.559613\n",
      "3      11236  2018-01-31  471722.143605\n",
      "4      10467  2018-01-31  407100.997435\n"
     ]
    }
   ],
   "source": [
    "df_rentals_long = df_rentals.melt(id_vars=['RegionName'], var_name='Date', value_name='RentalValue')\n",
    "\n",
    "# Transform df_homeValues from wide to long format\n",
    "df_homeValues_long = df_homeValues.melt(id_vars=['RegionName'], var_name='Date', value_name='HomeValue')\n",
    "\n",
    "# Display the transformed DataFrames to verify\n",
    "print(\"Transformed df_rentals:\")\n",
    "print(df_rentals_long.head())\n",
    "\n",
    "print(\"\\nTransformed df_homeValues:\")\n",
    "print(df_homeValues_long.head())"
   ]
  },
  {
   "cell_type": "code",
   "execution_count": 376,
   "metadata": {},
   "outputs": [
    {
     "data": {
      "text/plain": [
       "RegionName     category\n",
       "Date             object\n",
       "RentalValue     float64\n",
       "dtype: object"
      ]
     },
     "execution_count": 376,
     "metadata": {},
     "output_type": "execute_result"
    }
   ],
   "source": [
    "df_rentals_long.dtypes"
   ]
  },
  {
   "cell_type": "markdown",
   "metadata": {},
   "source": [
    "### Changing the Date column to type datatime"
   ]
  },
  {
   "cell_type": "code",
   "execution_count": 377,
   "metadata": {},
   "outputs": [
    {
     "name": "stdout",
     "output_type": "stream",
     "text": [
      "RegionName           category\n",
      "Date           datetime64[ns]\n",
      "RentalValue           float64\n",
      "dtype: object\n",
      "RegionName          category\n",
      "Date          datetime64[ns]\n",
      "HomeValue            float64\n",
      "dtype: object\n"
     ]
    }
   ],
   "source": [
    "#Change the Date column to datetime\n",
    "df_rentals_long['Date'] = pd.to_datetime(df_rentals_long['Date'])\n",
    "df_homeValues_long['Date'] = pd.to_datetime(df_homeValues_long['Date'])\n",
    "\n",
    "print(df_rentals_long.dtypes)\n",
    "print(df_homeValues_long.dtypes)"
   ]
  },
  {
   "cell_type": "markdown",
   "metadata": {},
   "source": [
    "### Merge the two dataframes"
   ]
  },
  {
   "cell_type": "code",
   "execution_count": 378,
   "metadata": {},
   "outputs": [
    {
     "name": "stdout",
     "output_type": "stream",
     "text": [
      "Number of rows in df_homeValues: 12844\n",
      "Number of rows in df_rentals: 10260\n",
      "Number of rows in df_merged: 12844\n"
     ]
    }
   ],
   "source": [
    "\n",
    "df_merged = pd.merge(df_homeValues_long, df_rentals_long, on=['RegionName', 'Date'], how='left')\n",
    "# Display the number of rows in the merged dataframe to verify\n",
    "print(f\"Number of rows in df_homeValues: {df_homeValues_long.shape[0]}\")\n",
    "print(f\"Number of rows in df_rentals: {df_rentals_long.shape[0]}\")\n",
    "print(f\"Number of rows in df_merged: {df_merged.shape[0]}\")"
   ]
  },
  {
   "cell_type": "code",
   "execution_count": 379,
   "metadata": {},
   "outputs": [
    {
     "data": {
      "text/html": [
       "<div>\n",
       "<style scoped>\n",
       "    .dataframe tbody tr th:only-of-type {\n",
       "        vertical-align: middle;\n",
       "    }\n",
       "\n",
       "    .dataframe tbody tr th {\n",
       "        vertical-align: top;\n",
       "    }\n",
       "\n",
       "    .dataframe thead th {\n",
       "        text-align: right;\n",
       "    }\n",
       "</style>\n",
       "<table border=\"1\" class=\"dataframe\">\n",
       "  <thead>\n",
       "    <tr style=\"text-align: right;\">\n",
       "      <th></th>\n",
       "      <th>RegionName</th>\n",
       "      <th>Date</th>\n",
       "      <th>HomeValue</th>\n",
       "      <th>RentalValue</th>\n",
       "    </tr>\n",
       "  </thead>\n",
       "  <tbody>\n",
       "    <tr>\n",
       "      <th>0</th>\n",
       "      <td>11368</td>\n",
       "      <td>2018-01-31</td>\n",
       "      <td>475623.750409</td>\n",
       "      <td>NaN</td>\n",
       "    </tr>\n",
       "    <tr>\n",
       "      <th>1</th>\n",
       "      <td>11385</td>\n",
       "      <td>2018-01-31</td>\n",
       "      <td>689332.524200</td>\n",
       "      <td>2326.050511</td>\n",
       "    </tr>\n",
       "    <tr>\n",
       "      <th>2</th>\n",
       "      <td>11208</td>\n",
       "      <td>2018-01-31</td>\n",
       "      <td>476537.559613</td>\n",
       "      <td>NaN</td>\n",
       "    </tr>\n",
       "    <tr>\n",
       "      <th>3</th>\n",
       "      <td>11236</td>\n",
       "      <td>2018-01-31</td>\n",
       "      <td>471722.143605</td>\n",
       "      <td>NaN</td>\n",
       "    </tr>\n",
       "    <tr>\n",
       "      <th>4</th>\n",
       "      <td>10467</td>\n",
       "      <td>2018-01-31</td>\n",
       "      <td>407100.997435</td>\n",
       "      <td>1274.181284</td>\n",
       "    </tr>\n",
       "  </tbody>\n",
       "</table>\n",
       "</div>"
      ],
      "text/plain": [
       "   RegionName       Date      HomeValue  RentalValue\n",
       "0       11368 2018-01-31  475623.750409          NaN\n",
       "1       11385 2018-01-31  689332.524200  2326.050511\n",
       "2       11208 2018-01-31  476537.559613          NaN\n",
       "3       11236 2018-01-31  471722.143605          NaN\n",
       "4       10467 2018-01-31  407100.997435  1274.181284"
      ]
     },
     "execution_count": 379,
     "metadata": {},
     "output_type": "execute_result"
    }
   ],
   "source": [
    "df_merged.head()    "
   ]
  },
  {
   "cell_type": "markdown",
   "metadata": {},
   "source": [
    "### Checking percentage of Nan values"
   ]
  },
  {
   "cell_type": "code",
   "execution_count": 380,
   "metadata": {},
   "outputs": [
    {
     "name": "stdout",
     "output_type": "stream",
     "text": [
      "Percentage of rows with rental values that are NaN: 44.90034257240735\n"
     ]
    }
   ],
   "source": [
    "#what percentage of the rows with rental values are Nan\n",
    "num_rows_rentalValue = df_merged['RentalValue'].shape[0]\n",
    "num_rows_rentalValue_NaN = df_merged['RentalValue'].isnull().sum()\n",
    "percentage_NaN = (num_rows_rentalValue_NaN/num_rows_rentalValue) * 100\n",
    "print(f\"Percentage of rows with rental values that are NaN: {percentage_NaN}\")"
   ]
  },
  {
   "cell_type": "code",
   "execution_count": 381,
   "metadata": {},
   "outputs": [
    {
     "name": "stdout",
     "output_type": "stream",
     "text": [
      "Percentage of rows with home values that are NaN: 1.175646216132046\n"
     ]
    }
   ],
   "source": [
    "#what percentage of the rows with home values are Nan\n",
    "num_rows_homeValue = df_merged['HomeValue'].shape[0]\n",
    "num_rows_homeValue_NaN = df_merged['HomeValue'].isnull().sum()\n",
    "percentage_NaN = (num_rows_homeValue_NaN/num_rows_homeValue) * 100\n",
    "print(f\"Percentage of rows with home values that are NaN: {percentage_NaN}\")"
   ]
  },
  {
   "cell_type": "markdown",
   "metadata": {},
   "source": [
    "### Changing Nan values to 0"
   ]
  },
  {
   "cell_type": "code",
   "execution_count": 384,
   "metadata": {},
   "outputs": [],
   "source": [
    "#change all NaN values to 0\n",
    "df_merged = df_merged.fillna(0)"
   ]
  },
  {
   "cell_type": "markdown",
   "metadata": {},
   "source": [
    "### Renaming RegionName to ZipCode"
   ]
  },
  {
   "cell_type": "code",
   "execution_count": 382,
   "metadata": {},
   "outputs": [],
   "source": [
    "#rename column RegionName to ZipCode\n",
    "df_merged = df_merged.rename(columns={'RegionName': 'ZipCode'})\n"
   ]
  },
  {
   "cell_type": "markdown",
   "metadata": {},
   "source": [
    "## Print to csv"
   ]
  },
  {
   "cell_type": "code",
   "execution_count": 383,
   "metadata": {},
   "outputs": [],
   "source": [
    "#print to csv\n",
    "\n",
    "df_merged.to_csv('Home_Rental_Value_Index.csv', index=False)"
   ]
  }
 ],
 "metadata": {
  "kernelspec": {
   "display_name": "base",
   "language": "python",
   "name": "python3"
  },
  "language_info": {
   "codemirror_mode": {
    "name": "ipython",
    "version": 3
   },
   "file_extension": ".py",
   "mimetype": "text/x-python",
   "name": "python",
   "nbconvert_exporter": "python",
   "pygments_lexer": "ipython3",
   "version": "3.11.4"
  }
 },
 "nbformat": 4,
 "nbformat_minor": 2
}
